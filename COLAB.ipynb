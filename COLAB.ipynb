{
  "nbformat": 4,
  "nbformat_minor": 0,
  "metadata": {
    "colab": {
      "name": "IMDB Sentiment Classification.ipynb",
      "version": "0.3.2",
      "provenance": [],
      "collapsed_sections": [],
      "toc_visible": true
    },
    "kernelspec": {
      "name": "python3",
      "display_name": "Python 3"
    },
    "accelerator": "GPU"
  },
  "cells": [
    {
      "metadata": {
        "id": "4ScJT_CzgeQ0",
        "colab_type": "text"
      },
      "cell_type": "markdown",
      "source": [
        "# IMDB Sentiment Classification"
      ]
    },
    {
      "metadata": {
        "id": "ax5LJx3uxq-F",
        "colab_type": "code",
        "outputId": "694bcdc2-8b05-479a-86df-b1d2de079b2d",
        "colab": {
          "base_uri": "https://localhost:8080/",
          "height": 122
        }
      },
      "cell_type": "code",
      "source": [
        "# Mount project directory\n",
        "\n",
        "from pathlib import Path\n",
        "\n",
        "cur_dir = !pwd\n",
        "cur_dir = cur_dir[0]\n",
        "\n",
        "# For online use\n",
        "\n",
        "from google.colab import drive\n",
        "drive.mount('/content/drive')\n",
        "project_dir = Path(cur_dir).resolve() / \\\n",
        "  'drive/My Drive/School/McGill' / \\\n",
        "    'COMP 551 - Applied Machine Learning' / \\\n",
        "      'Project 2 - IMDB Sentiment Classification'\n",
        "\n",
        "\n",
        "# For local use\n",
        "\"\"\"\n",
        "project_dir = Path(cur_dir).resolve()\n",
        "\"\"\"\n",
        "processed_path = project_dir / 'data/processed'"
      ],
      "execution_count": 0,
      "outputs": [
        {
          "output_type": "stream",
          "text": [
            "Go to this URL in a browser: https://accounts.google.com/o/oauth2/auth?client_id=947318989803-6bn6qk8qdgf4n4g3pfee6491hc0brc4i.apps.googleusercontent.com&redirect_uri=urn%3Aietf%3Awg%3Aoauth%3A2.0%3Aoob&scope=email%20https%3A%2F%2Fwww.googleapis.com%2Fauth%2Fdocs.test%20https%3A%2F%2Fwww.googleapis.com%2Fauth%2Fdrive%20https%3A%2F%2Fwww.googleapis.com%2Fauth%2Fdrive.photos.readonly%20https%3A%2F%2Fwww.googleapis.com%2Fauth%2Fpeopleapi.readonly&response_type=code\n",
            "\n",
            "Enter your authorization code:\n",
            "··········\n",
            "Mounted at /content/drive\n"
          ],
          "name": "stdout"
        }
      ]
    },
    {
      "metadata": {
        "id": "4jvk4OqYyQAO",
        "colab_type": "code",
        "colab": {}
      },
      "cell_type": "code",
      "source": [
        "# Importing data\n",
        "\n",
        "import json\n",
        "\n",
        "def get_dataset(path):\n",
        "    return json.load(open(path))\n",
        "\n",
        "def get_train_test_data(input_path, filenames):\n",
        "    train_test_data = [\n",
        "        get_dataset(input_path / filename)\n",
        "        for filename in filenames\n",
        "    ]\n",
        "    return train_test_data\n",
        "\n",
        "filenames = (\n",
        "    'X_train.json',\n",
        "    'X_test.json',\n",
        "    'y_train.json',\n",
        ")\n",
        "X_train, \\\n",
        "X_test, \\\n",
        "y_train = get_train_test_data(processed_path, filenames)"
      ],
      "execution_count": 0,
      "outputs": []
    },
    {
      "metadata": {
        "id": "0Jh6Y7f9vNfq",
        "colab_type": "text"
      },
      "cell_type": "markdown",
      "source": [
        "## 1. Bernoulli Naive Bayes"
      ]
    },
    {
      "metadata": {
        "id": "10ad0rDJvnOr",
        "colab_type": "text"
      },
      "cell_type": "markdown",
      "source": [
        "### Implementation"
      ]
    },
    {
      "metadata": {
        "id": "Ypr3uh3fvRhP",
        "colab_type": "code",
        "colab": {}
      },
      "cell_type": "code",
      "source": [
        "import numpy as np\n",
        "from sklearn.base import BaseEstimator, ClassifierMixin\n",
        "from sklearn.preprocessing import binarize as bin\n",
        "\n",
        "NEGATIVE, POSITIVE = 0, 1\n",
        "\n",
        "class BernoulliNaiveBayes(BaseEstimator, ClassifierMixin):\n",
        "    \"\"\"\n",
        "    Bernoulli Naive Bayes classifier with 2 classes.\n",
        "    \"\"\"\n",
        "    def __init__(self, binarize=.0, k=1):\n",
        "        \"\"\"\n",
        "        Set:\n",
        "            k value for Laplacian Smoothing\n",
        "            binarize threshold: values = 1 if values > threshold else 0\n",
        "        \"\"\"\n",
        "        self.binarize = binarize\n",
        "        self.k = k\n",
        "\n",
        "    def fit(self, X, y):\n",
        "        \"\"\"\n",
        "        Input:\n",
        "            X: n*m csr_matrix (sparse matrix)\n",
        "            y: list of length n\n",
        "        \"\"\"\n",
        "        k = self.k\n",
        "        n, m = X.shape\n",
        "        X = bin(X, threshold=self.binarize)\n",
        "        num_y_1 = np.sum(y)\n",
        "        num_y_0 = n - num_y_1\n",
        "        \n",
        "\n",
        "        \"\"\"\n",
        "        Define\n",
        "            theta_1 = (# of examples where y=1) / (total # of examples)\n",
        "            theta_j_1 = (# examples with xj=1 and y=1) / (# examples with y=1)\n",
        "            theta_j_0 = (# examples with xj=1 and y=0) / (# examples with y=0)\n",
        "        Then\n",
        "            theta_x_1[j] = theta_j_1\n",
        "            theta_x_0[j] = theta_j_0\n",
        "        \"\"\"\n",
        "        theta_1 = num_y_1 / n\n",
        "        theta_x_0 = np.full(m, k)\n",
        "        theta_x_1 = np.full(m, k)\n",
        "        \n",
        "        for i in range(n):\n",
        "            if y[i] == NEGATIVE:\n",
        "                theta_x_0 += X[i]\n",
        "\n",
        "            else: # y[i] == POSITIVE\n",
        "                theta_x_1 += X[i]\n",
        "\n",
        "        theta_x_0 = theta_x_0 / (num_y_0 + k + 1)\n",
        "        theta_x_1 = theta_x_1 / (num_y_1 + k + 1)\n",
        "        \n",
        "        ones = np.full(m,1)\n",
        "        \n",
        "        \"\"\"\n",
        "        Define\n",
        "            w_j_0 = log ((1 - theta_j_1) / (1 - theta_j_0))\n",
        "            w_j_1 = log (theta_j_1 / theta_j_0)\n",
        "        Then\n",
        "            w_x_0[j] = x_j_0\n",
        "            w_x_1[j] = x_j_1\n",
        "        \"\"\"\n",
        "        w_x_0 = np.log(ones - theta_x_1) - np.log(ones - theta_x_0)\n",
        "        w_x_1 = np.log(theta_x_1) - np.log(theta_x_0)\n",
        "        \n",
        "        \"\"\"\n",
        "        Define\n",
        "            w_0 = log (P(y=1) / P(y=0)) + sum of w_j_0 for all j\n",
        "            w = w_x_1 - w_x_0\n",
        "        \n",
        "        Then, for a given datapoint x, the log-odds ratio is:\n",
        "            w_0 + (x.transpose * w)\n",
        "        \"\"\"\n",
        "        w_0 = np.log(theta_1/(1 - theta_1)) + np.sum(w_x_0)\n",
        "        w = w_x_1 - w_x_0\n",
        "        \n",
        "        self.w_0 = w_0\n",
        "        self.w = w\n",
        "\n",
        "        return self\n",
        "    \n",
        "    def predict(self, X):\n",
        "        \"\"\"\n",
        "        Closed form solution for decision boundary.\n",
        "        \"\"\"\n",
        "        n = X.shape[0]\n",
        "        X = bin(X, threshold=self.binarize)\n",
        "        w_0 = self.w_0\n",
        "        w = self.w\n",
        "        y_pred = np.full(n, w_0)\n",
        "        \n",
        "        for i, x in enumerate(X):\n",
        "            y_pred[i] += x.dot(w.T)\n",
        "        \n",
        "        y_pred = (y_pred >= 0).astype(int).tolist()\n",
        "\n",
        "        return y_pred"
      ],
      "execution_count": 0,
      "outputs": []
    },
    {
      "metadata": {
        "id": "CRKD0I3mvuVG",
        "colab_type": "text"
      },
      "cell_type": "markdown",
      "source": [
        "### Performance"
      ]
    },
    {
      "metadata": {
        "id": "6BjtyMM0tKGD",
        "colab_type": "text"
      },
      "cell_type": "markdown",
      "source": [
        "The classifier will be tested with TF\\*IDF, bigrams, and different binarization thresholds."
      ]
    },
    {
      "metadata": {
        "id": "39Qc-KT6lu0a",
        "colab_type": "code",
        "colab": {}
      },
      "cell_type": "code",
      "source": [
        "from sklearn.feature_extraction.text import CountVectorizer, TfidfTransformer\n",
        "from sklearn.preprocessing import Normalizer\n",
        "from sklearn.pipeline import Pipeline\n",
        "\n",
        "pclf = Pipeline([\n",
        "    ('vect', CountVectorizer()),\n",
        "    ('tfidf', TfidfTransformer()),\n",
        "    ('norm', Normalizer()),\n",
        "    ('clf', BernoulliNaiveBayes()),\n",
        "])\n",
        "\n",
        "pclf.fit(X_train, y_train)"
      ],
      "execution_count": 0,
      "outputs": []
    },
    {
      "metadata": {
        "id": "bjv0rraRlx_f",
        "colab_type": "code",
        "colab": {}
      },
      "cell_type": "code",
      "source": [
        "from sklearn.model_selection import GridSearchCV\n",
        "\n",
        "params = {\n",
        "    \"vect__ngram_range\": [(1,1), (1,2), (2,2)],\n",
        "    \"clf__binarize\": [.0, .1, 0.15],\n",
        "}\n",
        "\n",
        "grid_search = GridSearchCV(\n",
        "    pclf,\n",
        "    param_grid=params,\n",
        "    cv=3, # 3-fold cross validation\n",
        "    verbose=10,\n",
        "    return_train_score=True,\n",
        ")\n",
        "\n",
        "grid_search.fit(X_train, y_train)"
      ],
      "execution_count": 0,
      "outputs": []
    },
    {
      "metadata": {
        "id": "fWzuxLmxl2fC",
        "colab_type": "code",
        "colab": {}
      },
      "cell_type": "code",
      "source": [
        "# Helper method to find the highest ranking models\n",
        "# From: https://scikit-learn.org/stable/auto_examples/model_selection/plot_randomized_search.html\n",
        "import numpy as np\n",
        "def report(results, n_top=3):\n",
        "    for i in range(1, n_top + 1):\n",
        "        candidates = np.flatnonzero(results['rank_test_score'] == i)\n",
        "        for candidate in candidates:\n",
        "            print(\"Model with rank: {0}\".format(i))\n",
        "            print(\"Mean validation score: {0:.3f} (std: {1:.3f})\".format(\n",
        "                  results['mean_test_score'][candidate],\n",
        "                  results['std_test_score'][candidate]))\n",
        "            print(\"Parameters: {0}\".format(results['params'][candidate]))\n",
        "            print(\"\")"
      ],
      "execution_count": 0,
      "outputs": []
    },
    {
      "metadata": {
        "id": "G_jxViazl4q0",
        "colab_type": "code",
        "colab": {}
      },
      "cell_type": "code",
      "source": [
        "# Top three models from randomized search and 2-fold cross validation\n",
        "report(grid_search.cv_results_)"
      ],
      "execution_count": 0,
      "outputs": []
    },
    {
      "metadata": {
        "id": "KH7FH_Jgs93P",
        "colab_type": "text"
      },
      "cell_type": "markdown",
      "source": [
        "**Report:**  \n",
        "Model with rank: 1  \n",
        "Mean validation score: 0.871 (std: 0.007)  \n",
        "Parameters: {'clf__binarize': 0.0, 'vect__ngram_range': (1, 2)}  \n",
        "\n",
        "Model with rank: 2  \n",
        "Mean validation score: 0.869 (std: 0.006)  \n",
        "Parameters: {'clf__binarize': 0.0, 'vect__ngram_range': (2, 2)}  \n",
        "\n",
        "Model with rank: 3  \n",
        "Mean validation score: 0.851 (std: 0.004)  \n",
        "Parameters: {'clf__binarize': 0.0, 'vect__ngram_range': (1, 1)}  "
      ]
    },
    {
      "metadata": {
        "id": "e6OYzwUyVNK3",
        "colab_type": "text"
      },
      "cell_type": "markdown",
      "source": [
        "**Observations:**  \n",
        "Bernoulli Naive Bayes achieves 85% accuracy with only TF\\*IDF, and manages to reach 87% when bigrams are added."
      ]
    },
    {
      "metadata": {
        "id": "Zh66gA-Mv2Ff",
        "colab_type": "text"
      },
      "cell_type": "markdown",
      "source": [
        "## 2. Experimentation with two classifiers"
      ]
    },
    {
      "metadata": {
        "id": "86fSFI9Y_7f0",
        "colab_type": "text"
      },
      "cell_type": "markdown",
      "source": [
        "### Feature construction"
      ]
    },
    {
      "metadata": {
        "id": "rOBW5q-75VMS",
        "colab_type": "text"
      },
      "cell_type": "markdown",
      "source": [
        "The features we'll use in our experiments are\n",
        "1. TF\\*IDF\n",
        "2. L2 regularization\n",
        "3. Sentiment lexicon, which will be our custom feature"
      ]
    },
    {
      "metadata": {
        "id": "GVSx6JkKx4qV",
        "colab_type": "text"
      },
      "cell_type": "markdown",
      "source": [
        "#### Custom features: sentiment lexicon and Pooling"
      ]
    },
    {
      "metadata": {
        "colab_type": "code",
        "cellView": "both",
        "id": "Yr4BWXzEXR_o",
        "colab": {}
      },
      "cell_type": "code",
      "source": [
        "#@title Default title text\n",
        "import nltk\n",
        "from keras.layers.convolutional import Conv1D, MaxPooling1D\n",
        "from sklearn.base import BaseEstimator, TransformerMixin\n",
        "\n",
        "class SentimentLexicon(BaseEstimator, TransformerMixin):\n",
        "    \n",
        "    def fit(self, X, y=None):\n",
        "        pass\n",
        "    \n",
        "    def transform(self, X):\n",
        "        features = None\n",
        "        \n",
        "        return features\n",
        "      "
      ],
      "execution_count": 0,
      "outputs": []
    },
    {
      "metadata": {
        "id": "5U5w4FUnwQw0",
        "colab_type": "text"
      },
      "cell_type": "markdown",
      "source": [
        "### Logistic Regression"
      ]
    },
    {
      "metadata": {
        "id": "VuZxp7lhwYcy",
        "colab_type": "code",
        "outputId": "8a709cec-aa30-4558-9081-3d79f17cdc85",
        "colab": {
          "base_uri": "https://localhost:8080/",
          "height": 224
        }
      },
      "cell_type": "code",
      "source": [
        "from sklearn import metrics\n",
        "from sklearn.linear_model import LogisticRegression as LR\n",
        "\n",
        "pclf = Pipeline([\n",
        "    ('vect', CountVectorizer()),\n",
        "    ('tfidf', TfidfTransformer()),\n",
        "    ('norm', Normalizer()),\n",
        "    ('clf', LR()),\n",
        "])\n",
        "\n",
        "pclf.fit(X_train, y_train)\n",
        "\n",
        "# Train set score\n",
        "y_train_pred = pclf.predict(X_train)\n",
        "print(metrics.classification_report(\n",
        "    y_train, y_train_pred))"
      ],
      "execution_count": 0,
      "outputs": [
        {
          "output_type": "stream",
          "text": [
            "/usr/local/lib/python3.6/dist-packages/sklearn/linear_model/logistic.py:433: FutureWarning: Default solver will be changed to 'lbfgs' in 0.22. Specify a solver to silence this warning.\n",
            "  FutureWarning)\n"
          ],
          "name": "stderr"
        },
        {
          "output_type": "stream",
          "text": [
            "              precision    recall  f1-score   support\n",
            "\n",
            "           0       0.94      0.93      0.93     12500\n",
            "           1       0.93      0.94      0.93     12500\n",
            "\n",
            "   micro avg       0.93      0.93      0.93     25000\n",
            "   macro avg       0.93      0.93      0.93     25000\n",
            "weighted avg       0.93      0.93      0.93     25000\n",
            "\n"
          ],
          "name": "stdout"
        }
      ]
    },
    {
      "metadata": {
        "id": "-uXLApqBYmmb",
        "colab_type": "code",
        "colab": {}
      },
      "cell_type": "code",
      "source": [
        "import pandas as pd\n",
        "reports_path = project_dir / 'reports'\n",
        "\n",
        "# Predict from test data\n",
        "y_test_pred = pclf.predict(X_test)\n",
        "\n",
        "# Export to CSV file\n",
        "pd.DataFrame(y_test_pred, columns=['Category']).to_csv(reports_path / 'prediction_1.csv')"
      ],
      "execution_count": 0,
      "outputs": []
    },
    {
      "metadata": {
        "id": "2sUd7fNFKvon",
        "colab_type": "text"
      },
      "cell_type": "markdown",
      "source": [
        "**Report:**  \n",
        "Classifier: logistic regression  \n",
        "Features: TF\\*IDF and L2 regularization  \n",
        "Kaggle score: 0.88186"
      ]
    },
    {
      "metadata": {
        "id": "Tgv9n7i54Usr",
        "colab_type": "text"
      },
      "cell_type": "markdown",
      "source": [
        "#### Randomized search and cross validation"
      ]
    },
    {
      "metadata": {
        "id": "0lUp_G5x39_y",
        "colab_type": "code",
        "outputId": "fcd271d0-810b-429d-b3e8-dc48febb382d",
        "colab": {
          "base_uri": "https://localhost:8080/",
          "height": 1159
        }
      },
      "cell_type": "code",
      "source": [
        "from sklearn.model_selection import RandomizedSearchCV\n",
        "\n",
        "params = {\n",
        "    \"vect__ngram_range\": [(1,1),(1,2),(2,2)],\n",
        "    \"tfidf__use_idf\": [True, False],\n",
        "    \"clf__C\": [0.001, 0.01, 0.1, 1, 10, 100],\n",
        "}\n",
        "\n",
        "seed = 551\n",
        "\n",
        "random_search = RandomizedSearchCV(\n",
        "    pclf,\n",
        "    param_distributions = params,\n",
        "    cv=2, # 2-fold cross validation\n",
        "    verbose = 10,\n",
        "    random_state = seed,\n",
        "    n_iter = 10,\n",
        "    return_train_score=True,\n",
        ")\n",
        "\n",
        "random_search.fit(X_train, y_train)"
      ],
      "execution_count": 0,
      "outputs": [
        {
          "output_type": "stream",
          "text": [
            "Fitting 2 folds for each of 10 candidates, totalling 20 fits\n",
            "[CV] vect__ngram_range=(1, 2), tfidf__use_idf=True, clf__C=0.01 ......\n"
          ],
          "name": "stdout"
        },
        {
          "output_type": "stream",
          "text": [
            "[Parallel(n_jobs=1)]: Using backend SequentialBackend with 1 concurrent workers.\n",
            "/usr/local/lib/python3.6/dist-packages/sklearn/linear_model/logistic.py:433: FutureWarning: Default solver will be changed to 'lbfgs' in 0.22. Specify a solver to silence this warning.\n",
            "  FutureWarning)\n"
          ],
          "name": "stderr"
        },
        {
          "output_type": "stream",
          "text": [
            "[CV]  vect__ngram_range=(1, 2), tfidf__use_idf=True, clf__C=0.01, score=0.8016, total=  23.5s\n",
            "[CV] vect__ngram_range=(1, 2), tfidf__use_idf=True, clf__C=0.01 ......\n"
          ],
          "name": "stdout"
        },
        {
          "output_type": "stream",
          "text": [
            "[Parallel(n_jobs=1)]: Done   1 out of   1 | elapsed:   31.4s remaining:    0.0s\n"
          ],
          "name": "stderr"
        },
        {
          "output_type": "stream",
          "text": [
            "[CV]  vect__ngram_range=(1, 2), tfidf__use_idf=True, clf__C=0.01, score=0.79216, total=  23.6s\n",
            "[CV] vect__ngram_range=(1, 2), tfidf__use_idf=True, clf__C=0.001 .....\n"
          ],
          "name": "stdout"
        },
        {
          "output_type": "stream",
          "text": [
            "[Parallel(n_jobs=1)]: Done   2 out of   2 | elapsed:  1.0min remaining:    0.0s\n"
          ],
          "name": "stderr"
        },
        {
          "output_type": "stream",
          "text": [
            "[CV]  vect__ngram_range=(1, 2), tfidf__use_idf=True, clf__C=0.001, score=0.79856, total=  22.7s\n",
            "[CV] vect__ngram_range=(1, 2), tfidf__use_idf=True, clf__C=0.001 .....\n"
          ],
          "name": "stdout"
        },
        {
          "output_type": "stream",
          "text": [
            "[Parallel(n_jobs=1)]: Done   3 out of   3 | elapsed:  1.6min remaining:    0.0s\n"
          ],
          "name": "stderr"
        },
        {
          "output_type": "stream",
          "text": [
            "[CV]  vect__ngram_range=(1, 2), tfidf__use_idf=True, clf__C=0.001, score=0.7868, total=  22.9s\n",
            "[CV] vect__ngram_range=(1, 1), tfidf__use_idf=False, clf__C=0.1 ......\n"
          ],
          "name": "stdout"
        },
        {
          "output_type": "stream",
          "text": [
            "[Parallel(n_jobs=1)]: Done   4 out of   4 | elapsed:  2.1min remaining:    0.0s\n"
          ],
          "name": "stderr"
        },
        {
          "output_type": "stream",
          "text": [
            "[CV]  vect__ngram_range=(1, 1), tfidf__use_idf=False, clf__C=0.1, score=0.77288, total=   6.1s\n",
            "[CV] vect__ngram_range=(1, 1), tfidf__use_idf=False, clf__C=0.1 ......\n"
          ],
          "name": "stdout"
        },
        {
          "output_type": "stream",
          "text": [
            "[Parallel(n_jobs=1)]: Done   5 out of   5 | elapsed:  2.2min remaining:    0.0s\n"
          ],
          "name": "stderr"
        },
        {
          "output_type": "stream",
          "text": [
            "[CV]  vect__ngram_range=(1, 1), tfidf__use_idf=False, clf__C=0.1, score=0.7612, total=   5.7s\n",
            "[CV] vect__ngram_range=(1, 2), tfidf__use_idf=False, clf__C=100 ......\n"
          ],
          "name": "stdout"
        },
        {
          "output_type": "stream",
          "text": [
            "[Parallel(n_jobs=1)]: Done   6 out of   6 | elapsed:  2.4min remaining:    0.0s\n"
          ],
          "name": "stderr"
        },
        {
          "output_type": "stream",
          "text": [
            "[CV]  vect__ngram_range=(1, 2), tfidf__use_idf=False, clf__C=100, score=0.88744, total=  40.7s\n",
            "[CV] vect__ngram_range=(1, 2), tfidf__use_idf=False, clf__C=100 ......\n"
          ],
          "name": "stdout"
        },
        {
          "output_type": "stream",
          "text": [
            "[Parallel(n_jobs=1)]: Done   7 out of   7 | elapsed:  3.1min remaining:    0.0s\n"
          ],
          "name": "stderr"
        },
        {
          "output_type": "stream",
          "text": [
            "[CV]  vect__ngram_range=(1, 2), tfidf__use_idf=False, clf__C=100, score=0.88216, total=  40.8s\n",
            "[CV] vect__ngram_range=(1, 1), tfidf__use_idf=True, clf__C=100 .......\n"
          ],
          "name": "stdout"
        },
        {
          "output_type": "stream",
          "text": [
            "[Parallel(n_jobs=1)]: Done   8 out of   8 | elapsed:  3.9min remaining:    0.0s\n"
          ],
          "name": "stderr"
        },
        {
          "output_type": "stream",
          "text": [
            "[CV]  vect__ngram_range=(1, 1), tfidf__use_idf=True, clf__C=100, score=0.88168, total=   7.8s\n",
            "[CV] vect__ngram_range=(1, 1), tfidf__use_idf=True, clf__C=100 .......\n"
          ],
          "name": "stdout"
        },
        {
          "output_type": "stream",
          "text": [
            "[Parallel(n_jobs=1)]: Done   9 out of   9 | elapsed:  4.1min remaining:    0.0s\n"
          ],
          "name": "stderr"
        },
        {
          "output_type": "stream",
          "text": [
            "[CV]  vect__ngram_range=(1, 1), tfidf__use_idf=True, clf__C=100, score=0.87576, total=   7.9s\n",
            "[CV] vect__ngram_range=(1, 2), tfidf__use_idf=True, clf__C=0.1 .......\n",
            "[CV]  vect__ngram_range=(1, 2), tfidf__use_idf=True, clf__C=0.1, score=0.83344, total=  23.2s\n",
            "[CV] vect__ngram_range=(1, 2), tfidf__use_idf=True, clf__C=0.1 .......\n",
            "[CV]  vect__ngram_range=(1, 2), tfidf__use_idf=True, clf__C=0.1, score=0.8216, total=  22.9s\n",
            "[CV] vect__ngram_range=(2, 2), tfidf__use_idf=False, clf__C=100 ......\n",
            "[CV]  vect__ngram_range=(2, 2), tfidf__use_idf=False, clf__C=100, score=0.8628, total=  26.0s\n",
            "[CV] vect__ngram_range=(2, 2), tfidf__use_idf=False, clf__C=100 ......\n",
            "[CV]  vect__ngram_range=(2, 2), tfidf__use_idf=False, clf__C=100, score=0.86464, total=  27.0s\n",
            "[CV] vect__ngram_range=(1, 1), tfidf__use_idf=True, clf__C=0.01 ......\n",
            "[CV]  vect__ngram_range=(1, 1), tfidf__use_idf=True, clf__C=0.01, score=0.78976, total=   5.8s\n",
            "[CV] vect__ngram_range=(1, 1), tfidf__use_idf=True, clf__C=0.01 ......\n",
            "[CV]  vect__ngram_range=(1, 1), tfidf__use_idf=True, clf__C=0.01, score=0.77904, total=   5.8s\n",
            "[CV] vect__ngram_range=(1, 1), tfidf__use_idf=False, clf__C=0.001 ....\n",
            "[CV]  vect__ngram_range=(1, 1), tfidf__use_idf=False, clf__C=0.001, score=0.67952, total=   5.3s\n",
            "[CV] vect__ngram_range=(1, 1), tfidf__use_idf=False, clf__C=0.001 ....\n",
            "[CV]  vect__ngram_range=(1, 1), tfidf__use_idf=False, clf__C=0.001, score=0.6656, total=   5.3s\n",
            "[CV] vect__ngram_range=(2, 2), tfidf__use_idf=True, clf__C=100 .......\n",
            "[CV]  vect__ngram_range=(2, 2), tfidf__use_idf=True, clf__C=100, score=0.87976, total=  21.2s\n",
            "[CV] vect__ngram_range=(2, 2), tfidf__use_idf=True, clf__C=100 .......\n",
            "[CV]  vect__ngram_range=(2, 2), tfidf__use_idf=True, clf__C=100, score=0.87656, total=  21.2s\n"
          ],
          "name": "stdout"
        },
        {
          "output_type": "stream",
          "text": [
            "[Parallel(n_jobs=1)]: Done  20 out of  20 | elapsed:  7.8min finished\n"
          ],
          "name": "stderr"
        },
        {
          "output_type": "execute_result",
          "data": {
            "text/plain": [
              "RandomizedSearchCV(cv=2, error_score='raise-deprecating',\n",
              "          estimator=Pipeline(memory=None,\n",
              "     steps=[('vect', CountVectorizer(analyzer='word', binary=False, decode_error='strict',\n",
              "        dtype=<class 'numpy.int64'>, encoding='utf-8', input='content',\n",
              "        lowercase=True, max_df=1.0, max_features=None, min_df=1,\n",
              "        ngram_range=(1, 2), preprocessor=None, stop_words=None,\n",
              "        strip...penalty='l2', random_state=None, solver='warn',\n",
              "          tol=0.0001, verbose=0, warm_start=False))]),\n",
              "          fit_params=None, iid='warn', n_iter=10, n_jobs=None,\n",
              "          param_distributions={'vect__ngram_range': [(1, 1), (1, 2), (2, 2)], 'tfidf__use_idf': [True, False], 'clf__C': [0.001, 0.01, 0.1, 1, 10, 100]},\n",
              "          pre_dispatch='2*n_jobs', random_state=551, refit=True,\n",
              "          return_train_score=True, scoring=None, verbose=10)"
            ]
          },
          "metadata": {
            "tags": []
          },
          "execution_count": 27
        }
      ]
    },
    {
      "metadata": {
        "id": "oTmNE9VXj6pF",
        "colab_type": "code",
        "outputId": "96c5725e-fb95-4879-9e02-76983f5d2227",
        "colab": {
          "base_uri": "https://localhost:8080/",
          "height": 719
        }
      },
      "cell_type": "code",
      "source": [
        "import pandas as pd\n",
        "pd.DataFrame(random_search.cv_results_).sort_values(by=['rank_test_score'])"
      ],
      "execution_count": 0,
      "outputs": [
        {
          "output_type": "execute_result",
          "data": {
            "text/html": [
              "<div>\n",
              "<style scoped>\n",
              "    .dataframe tbody tr th:only-of-type {\n",
              "        vertical-align: middle;\n",
              "    }\n",
              "\n",
              "    .dataframe tbody tr th {\n",
              "        vertical-align: top;\n",
              "    }\n",
              "\n",
              "    .dataframe thead th {\n",
              "        text-align: right;\n",
              "    }\n",
              "</style>\n",
              "<table border=\"1\" class=\"dataframe\">\n",
              "  <thead>\n",
              "    <tr style=\"text-align: right;\">\n",
              "      <th></th>\n",
              "      <th>mean_fit_time</th>\n",
              "      <th>mean_score_time</th>\n",
              "      <th>mean_test_score</th>\n",
              "      <th>mean_train_score</th>\n",
              "      <th>param_clf__C</th>\n",
              "      <th>param_tfidf__use_idf</th>\n",
              "      <th>param_vect__ngram_range</th>\n",
              "      <th>params</th>\n",
              "      <th>rank_test_score</th>\n",
              "      <th>split0_test_score</th>\n",
              "      <th>split0_train_score</th>\n",
              "      <th>split1_test_score</th>\n",
              "      <th>split1_train_score</th>\n",
              "      <th>std_fit_time</th>\n",
              "      <th>std_score_time</th>\n",
              "      <th>std_test_score</th>\n",
              "      <th>std_train_score</th>\n",
              "    </tr>\n",
              "  </thead>\n",
              "  <tbody>\n",
              "    <tr>\n",
              "      <th>3</th>\n",
              "      <td>34.044260</td>\n",
              "      <td>6.711290</td>\n",
              "      <td>0.88480</td>\n",
              "      <td>1.00000</td>\n",
              "      <td>100</td>\n",
              "      <td>False</td>\n",
              "      <td>(1, 2)</td>\n",
              "      <td>{'vect__ngram_range': (1, 2), 'tfidf__use_idf'...</td>\n",
              "      <td>1</td>\n",
              "      <td>0.88744</td>\n",
              "      <td>1.00000</td>\n",
              "      <td>0.88216</td>\n",
              "      <td>1.00000</td>\n",
              "      <td>0.066578</td>\n",
              "      <td>0.015775</td>\n",
              "      <td>0.00264</td>\n",
              "      <td>0.00000</td>\n",
              "    </tr>\n",
              "    <tr>\n",
              "      <th>4</th>\n",
              "      <td>5.119068</td>\n",
              "      <td>2.709600</td>\n",
              "      <td>0.87872</td>\n",
              "      <td>1.00000</td>\n",
              "      <td>100</td>\n",
              "      <td>True</td>\n",
              "      <td>(1, 1)</td>\n",
              "      <td>{'vect__ngram_range': (1, 1), 'tfidf__use_idf'...</td>\n",
              "      <td>2</td>\n",
              "      <td>0.88168</td>\n",
              "      <td>1.00000</td>\n",
              "      <td>0.87576</td>\n",
              "      <td>1.00000</td>\n",
              "      <td>0.005182</td>\n",
              "      <td>0.026560</td>\n",
              "      <td>0.00296</td>\n",
              "      <td>0.00000</td>\n",
              "    </tr>\n",
              "    <tr>\n",
              "      <th>9</th>\n",
              "      <td>15.929556</td>\n",
              "      <td>5.259638</td>\n",
              "      <td>0.87816</td>\n",
              "      <td>1.00000</td>\n",
              "      <td>100</td>\n",
              "      <td>True</td>\n",
              "      <td>(2, 2)</td>\n",
              "      <td>{'vect__ngram_range': (2, 2), 'tfidf__use_idf'...</td>\n",
              "      <td>3</td>\n",
              "      <td>0.87976</td>\n",
              "      <td>1.00000</td>\n",
              "      <td>0.87656</td>\n",
              "      <td>1.00000</td>\n",
              "      <td>0.115909</td>\n",
              "      <td>0.083641</td>\n",
              "      <td>0.00160</td>\n",
              "      <td>0.00000</td>\n",
              "    </tr>\n",
              "    <tr>\n",
              "      <th>6</th>\n",
              "      <td>21.726679</td>\n",
              "      <td>4.777279</td>\n",
              "      <td>0.86372</td>\n",
              "      <td>1.00000</td>\n",
              "      <td>100</td>\n",
              "      <td>False</td>\n",
              "      <td>(2, 2)</td>\n",
              "      <td>{'vect__ngram_range': (2, 2), 'tfidf__use_idf'...</td>\n",
              "      <td>4</td>\n",
              "      <td>0.86280</td>\n",
              "      <td>1.00000</td>\n",
              "      <td>0.86464</td>\n",
              "      <td>1.00000</td>\n",
              "      <td>0.388198</td>\n",
              "      <td>0.154218</td>\n",
              "      <td>0.00092</td>\n",
              "      <td>0.00000</td>\n",
              "    </tr>\n",
              "    <tr>\n",
              "      <th>5</th>\n",
              "      <td>15.515996</td>\n",
              "      <td>7.499169</td>\n",
              "      <td>0.82752</td>\n",
              "      <td>0.87564</td>\n",
              "      <td>0.1</td>\n",
              "      <td>True</td>\n",
              "      <td>(1, 2)</td>\n",
              "      <td>{'vect__ngram_range': (1, 2), 'tfidf__use_idf'...</td>\n",
              "      <td>5</td>\n",
              "      <td>0.83344</td>\n",
              "      <td>0.87608</td>\n",
              "      <td>0.82160</td>\n",
              "      <td>0.87520</td>\n",
              "      <td>0.109473</td>\n",
              "      <td>0.266102</td>\n",
              "      <td>0.00592</td>\n",
              "      <td>0.00044</td>\n",
              "    </tr>\n",
              "    <tr>\n",
              "      <th>0</th>\n",
              "      <td>15.636838</td>\n",
              "      <td>7.882475</td>\n",
              "      <td>0.79688</td>\n",
              "      <td>0.83140</td>\n",
              "      <td>0.01</td>\n",
              "      <td>True</td>\n",
              "      <td>(1, 2)</td>\n",
              "      <td>{'vect__ngram_range': (1, 2), 'tfidf__use_idf'...</td>\n",
              "      <td>6</td>\n",
              "      <td>0.80160</td>\n",
              "      <td>0.83328</td>\n",
              "      <td>0.79216</td>\n",
              "      <td>0.82952</td>\n",
              "      <td>0.016575</td>\n",
              "      <td>0.061777</td>\n",
              "      <td>0.00472</td>\n",
              "      <td>0.00188</td>\n",
              "    </tr>\n",
              "    <tr>\n",
              "      <th>1</th>\n",
              "      <td>15.041045</td>\n",
              "      <td>7.712979</td>\n",
              "      <td>0.79268</td>\n",
              "      <td>0.82916</td>\n",
              "      <td>0.001</td>\n",
              "      <td>True</td>\n",
              "      <td>(1, 2)</td>\n",
              "      <td>{'vect__ngram_range': (1, 2), 'tfidf__use_idf'...</td>\n",
              "      <td>7</td>\n",
              "      <td>0.79856</td>\n",
              "      <td>0.83008</td>\n",
              "      <td>0.78680</td>\n",
              "      <td>0.82824</td>\n",
              "      <td>0.014449</td>\n",
              "      <td>0.112936</td>\n",
              "      <td>0.00588</td>\n",
              "      <td>0.00092</td>\n",
              "    </tr>\n",
              "    <tr>\n",
              "      <th>7</th>\n",
              "      <td>3.125948</td>\n",
              "      <td>2.650925</td>\n",
              "      <td>0.78440</td>\n",
              "      <td>0.79600</td>\n",
              "      <td>0.01</td>\n",
              "      <td>True</td>\n",
              "      <td>(1, 1)</td>\n",
              "      <td>{'vect__ngram_range': (1, 1), 'tfidf__use_idf'...</td>\n",
              "      <td>8</td>\n",
              "      <td>0.78976</td>\n",
              "      <td>0.79616</td>\n",
              "      <td>0.77904</td>\n",
              "      <td>0.79584</td>\n",
              "      <td>0.020187</td>\n",
              "      <td>0.027153</td>\n",
              "      <td>0.00536</td>\n",
              "      <td>0.00016</td>\n",
              "    </tr>\n",
              "    <tr>\n",
              "      <th>2</th>\n",
              "      <td>3.390597</td>\n",
              "      <td>2.505590</td>\n",
              "      <td>0.76704</td>\n",
              "      <td>0.77788</td>\n",
              "      <td>0.1</td>\n",
              "      <td>False</td>\n",
              "      <td>(1, 1)</td>\n",
              "      <td>{'vect__ngram_range': (1, 1), 'tfidf__use_idf'...</td>\n",
              "      <td>9</td>\n",
              "      <td>0.77288</td>\n",
              "      <td>0.77632</td>\n",
              "      <td>0.76120</td>\n",
              "      <td>0.77944</td>\n",
              "      <td>0.157826</td>\n",
              "      <td>0.022387</td>\n",
              "      <td>0.00584</td>\n",
              "      <td>0.00156</td>\n",
              "    </tr>\n",
              "    <tr>\n",
              "      <th>8</th>\n",
              "      <td>2.837480</td>\n",
              "      <td>2.491178</td>\n",
              "      <td>0.67256</td>\n",
              "      <td>0.67504</td>\n",
              "      <td>0.001</td>\n",
              "      <td>False</td>\n",
              "      <td>(1, 1)</td>\n",
              "      <td>{'vect__ngram_range': (1, 1), 'tfidf__use_idf'...</td>\n",
              "      <td>10</td>\n",
              "      <td>0.67952</td>\n",
              "      <td>0.67208</td>\n",
              "      <td>0.66560</td>\n",
              "      <td>0.67800</td>\n",
              "      <td>0.023104</td>\n",
              "      <td>0.024526</td>\n",
              "      <td>0.00696</td>\n",
              "      <td>0.00296</td>\n",
              "    </tr>\n",
              "  </tbody>\n",
              "</table>\n",
              "</div>"
            ],
            "text/plain": [
              "   mean_fit_time  mean_score_time  mean_test_score  mean_train_score  \\\n",
              "3      34.044260         6.711290          0.88480           1.00000   \n",
              "4       5.119068         2.709600          0.87872           1.00000   \n",
              "9      15.929556         5.259638          0.87816           1.00000   \n",
              "6      21.726679         4.777279          0.86372           1.00000   \n",
              "5      15.515996         7.499169          0.82752           0.87564   \n",
              "0      15.636838         7.882475          0.79688           0.83140   \n",
              "1      15.041045         7.712979          0.79268           0.82916   \n",
              "7       3.125948         2.650925          0.78440           0.79600   \n",
              "2       3.390597         2.505590          0.76704           0.77788   \n",
              "8       2.837480         2.491178          0.67256           0.67504   \n",
              "\n",
              "  param_clf__C param_tfidf__use_idf param_vect__ngram_range  \\\n",
              "3          100                False                  (1, 2)   \n",
              "4          100                 True                  (1, 1)   \n",
              "9          100                 True                  (2, 2)   \n",
              "6          100                False                  (2, 2)   \n",
              "5          0.1                 True                  (1, 2)   \n",
              "0         0.01                 True                  (1, 2)   \n",
              "1        0.001                 True                  (1, 2)   \n",
              "7         0.01                 True                  (1, 1)   \n",
              "2          0.1                False                  (1, 1)   \n",
              "8        0.001                False                  (1, 1)   \n",
              "\n",
              "                                              params  rank_test_score  \\\n",
              "3  {'vect__ngram_range': (1, 2), 'tfidf__use_idf'...                1   \n",
              "4  {'vect__ngram_range': (1, 1), 'tfidf__use_idf'...                2   \n",
              "9  {'vect__ngram_range': (2, 2), 'tfidf__use_idf'...                3   \n",
              "6  {'vect__ngram_range': (2, 2), 'tfidf__use_idf'...                4   \n",
              "5  {'vect__ngram_range': (1, 2), 'tfidf__use_idf'...                5   \n",
              "0  {'vect__ngram_range': (1, 2), 'tfidf__use_idf'...                6   \n",
              "1  {'vect__ngram_range': (1, 2), 'tfidf__use_idf'...                7   \n",
              "7  {'vect__ngram_range': (1, 1), 'tfidf__use_idf'...                8   \n",
              "2  {'vect__ngram_range': (1, 1), 'tfidf__use_idf'...                9   \n",
              "8  {'vect__ngram_range': (1, 1), 'tfidf__use_idf'...               10   \n",
              "\n",
              "   split0_test_score  split0_train_score  split1_test_score  \\\n",
              "3            0.88744             1.00000            0.88216   \n",
              "4            0.88168             1.00000            0.87576   \n",
              "9            0.87976             1.00000            0.87656   \n",
              "6            0.86280             1.00000            0.86464   \n",
              "5            0.83344             0.87608            0.82160   \n",
              "0            0.80160             0.83328            0.79216   \n",
              "1            0.79856             0.83008            0.78680   \n",
              "7            0.78976             0.79616            0.77904   \n",
              "2            0.77288             0.77632            0.76120   \n",
              "8            0.67952             0.67208            0.66560   \n",
              "\n",
              "   split1_train_score  std_fit_time  std_score_time  std_test_score  \\\n",
              "3             1.00000      0.066578        0.015775         0.00264   \n",
              "4             1.00000      0.005182        0.026560         0.00296   \n",
              "9             1.00000      0.115909        0.083641         0.00160   \n",
              "6             1.00000      0.388198        0.154218         0.00092   \n",
              "5             0.87520      0.109473        0.266102         0.00592   \n",
              "0             0.82952      0.016575        0.061777         0.00472   \n",
              "1             0.82824      0.014449        0.112936         0.00588   \n",
              "7             0.79584      0.020187        0.027153         0.00536   \n",
              "2             0.77944      0.157826        0.022387         0.00584   \n",
              "8             0.67800      0.023104        0.024526         0.00696   \n",
              "\n",
              "   std_train_score  \n",
              "3          0.00000  \n",
              "4          0.00000  \n",
              "9          0.00000  \n",
              "6          0.00000  \n",
              "5          0.00044  \n",
              "0          0.00188  \n",
              "1          0.00092  \n",
              "7          0.00016  \n",
              "2          0.00156  \n",
              "8          0.00296  "
            ]
          },
          "metadata": {
            "tags": []
          },
          "execution_count": 28
        }
      ]
    },
    {
      "metadata": {
        "id": "sAe98fhsySv3",
        "colab_type": "code",
        "outputId": "6faf586f-148e-4304-cbd0-56c61d19a879",
        "colab": {
          "base_uri": "https://localhost:8080/",
          "height": 221
        }
      },
      "cell_type": "code",
      "source": [
        "# Top three models from randomized search and 2-fold cross validation\n",
        "\n",
        "report(random_search.cv_results_)"
      ],
      "execution_count": 0,
      "outputs": [
        {
          "output_type": "stream",
          "text": [
            "Model with rank: 1\n",
            "Mean validation score: 0.885 (std: 0.003)\n",
            "Parameters: {'vect__ngram_range': (1, 2), 'tfidf__use_idf': False, 'clf__C': 100}\n",
            "\n",
            "Model with rank: 2\n",
            "Mean validation score: 0.879 (std: 0.003)\n",
            "Parameters: {'vect__ngram_range': (1, 1), 'tfidf__use_idf': True, 'clf__C': 100}\n",
            "\n",
            "Model with rank: 3\n",
            "Mean validation score: 0.878 (std: 0.002)\n",
            "Parameters: {'vect__ngram_range': (2, 2), 'tfidf__use_idf': True, 'clf__C': 100}\n",
            "\n"
          ],
          "name": "stdout"
        }
      ]
    },
    {
      "metadata": {
        "id": "l71PEb8ekiHq",
        "colab_type": "text"
      },
      "cell_type": "markdown",
      "source": [
        "**Report:**  \n",
        "Model with rank: 1  \n",
        "Mean validation score: 0.885 (std: 0.003)  \n",
        "Parameters: {'vect__ngram_range': (1, 2), 'tfidf__use_idf': False, 'clf__C': 100}\n",
        "\n",
        "Model with rank: 2  \n",
        "Mean validation score: 0.879 (std: 0.003)  \n",
        "Parameters: {'vect__ngram_range': (1, 1), 'tfidf__use_idf': True, 'clf__C': 100}\n",
        "\n",
        "Model with rank: 3  \n",
        "Mean validation score: 0.878 (std: 0.002)  \n",
        "Parameters: {'vect__ngram_range': (2, 2), 'tfidf__use_idf': True, 'clf__C': 100}"
      ]
    },
    {
      "metadata": {
        "id": "Bzzloi0rwUnq",
        "colab_type": "text"
      },
      "cell_type": "markdown",
      "source": [
        "### Support Vector Machine"
      ]
    },
    {
      "metadata": {
        "id": "XQbPgjOuwZbW",
        "colab_type": "code",
        "outputId": "a7d0b396-caf7-4b37-86a3-38c1e4abf1ac",
        "colab": {
          "base_uri": "https://localhost:8080/",
          "height": 170
        }
      },
      "cell_type": "code",
      "source": [
        "from sklearn.svm import SVC\n",
        "\n",
        "pclf = Pipeline([\n",
        "    ('vect', CountVectorizer()),\n",
        "    ('tfidf', TfidfTransformer()),\n",
        "    ('norm', Normalizer()),\n",
        "    ('clf', SVC(kernel='linear', cache_size=7000)),\n",
        "])\n",
        "\n",
        "pclf.fit(X_train, y_train)\n",
        "\n",
        "y_train_pred = pclf.predict(X_train)\n",
        "print(metrics.classification_report(\n",
        "    y_train, y_train_pred))"
      ],
      "execution_count": 0,
      "outputs": [
        {
          "output_type": "stream",
          "text": [
            "              precision    recall  f1-score   support\n",
            "\n",
            "           0       0.97      0.96      0.96     12500\n",
            "           1       0.96      0.97      0.96     12500\n",
            "\n",
            "   micro avg       0.96      0.96      0.96     25000\n",
            "   macro avg       0.96      0.96      0.96     25000\n",
            "weighted avg       0.96      0.96      0.96     25000\n",
            "\n"
          ],
          "name": "stdout"
        }
      ]
    },
    {
      "metadata": {
        "id": "XZ3pspeeqjq7",
        "colab_type": "code",
        "colab": {}
      },
      "cell_type": "code",
      "source": [
        "# Output\n",
        "\n",
        "\"\"\"\n",
        "              precision    recall  f1-score   support\n",
        "\n",
        "           0       0.97      0.96      0.96     12500\n",
        "           1       0.96      0.97      0.96     12500\n",
        "\n",
        "   micro avg       0.96      0.96      0.96     25000\n",
        "   macro avg       0.96      0.96      0.96     25000\n",
        "weighted avg       0.96      0.96      0.96     25000\n",
        "\"\"\""
      ],
      "execution_count": 0,
      "outputs": []
    },
    {
      "metadata": {
        "id": "Vf5zMJVQqsQ-",
        "colab_type": "code",
        "outputId": "1884b8bf-9846-4f89-93f2-3c2159771cdc",
        "colab": {
          "base_uri": "https://localhost:8080/",
          "height": 197
        }
      },
      "cell_type": "code",
      "source": [
        "import pickle\n",
        "models_path = project_dir / 'models'\n",
        "pickle.dump(pclf, open(models_path / 'SVM.pkl', 'wb'))"
      ],
      "execution_count": 0,
      "outputs": [
        {
          "output_type": "error",
          "ename": "NameError",
          "evalue": "ignored",
          "traceback": [
            "\u001b[0;31m---------------------------------------------------------------------------\u001b[0m",
            "\u001b[0;31mNameError\u001b[0m                                 Traceback (most recent call last)",
            "\u001b[0;32m<ipython-input-5-237a554f1fd2>\u001b[0m in \u001b[0;36m<module>\u001b[0;34m()\u001b[0m\n\u001b[1;32m      1\u001b[0m \u001b[0;32mimport\u001b[0m \u001b[0mpickle\u001b[0m\u001b[0;34m\u001b[0m\u001b[0;34m\u001b[0m\u001b[0m\n\u001b[1;32m      2\u001b[0m \u001b[0mmodels_path\u001b[0m \u001b[0;34m=\u001b[0m \u001b[0mproject_dir\u001b[0m \u001b[0;34m/\u001b[0m \u001b[0;34m'models'\u001b[0m\u001b[0;34m\u001b[0m\u001b[0;34m\u001b[0m\u001b[0m\n\u001b[0;32m----> 3\u001b[0;31m \u001b[0mpickle\u001b[0m\u001b[0;34m.\u001b[0m\u001b[0mdump\u001b[0m\u001b[0;34m(\u001b[0m\u001b[0mpclf\u001b[0m\u001b[0;34m,\u001b[0m \u001b[0mopen\u001b[0m\u001b[0;34m(\u001b[0m\u001b[0mmodels_path\u001b[0m \u001b[0;34m/\u001b[0m \u001b[0;34m'SVM.pkl'\u001b[0m\u001b[0;34m,\u001b[0m \u001b[0;34m'wb'\u001b[0m\u001b[0;34m)\u001b[0m\u001b[0;34m)\u001b[0m\u001b[0;34m\u001b[0m\u001b[0;34m\u001b[0m\u001b[0m\n\u001b[0m",
            "\u001b[0;31mNameError\u001b[0m: name 'pclf' is not defined"
          ]
        }
      ]
    },
    {
      "metadata": {
        "id": "BGzL2lau6_-7",
        "colab_type": "text"
      },
      "cell_type": "markdown",
      "source": [
        "#### Randomized search and cross validation"
      ]
    },
    {
      "metadata": {
        "id": "PDYaJ6ku7FIJ",
        "colab_type": "code",
        "outputId": "161a7776-69e0-4d8f-c642-8211419d221b",
        "colab": {
          "base_uri": "https://localhost:8080/",
          "height": 680
        }
      },
      "cell_type": "code",
      "source": [
        "from sklearn.model_selection import RandomizedSearchCV\n",
        "from scipy.stats import uniform\n",
        "\n",
        "pclf = pickle.load(open(models_path / 'SVM.pkl', 'rb'))\n",
        "\n",
        "params = {\n",
        "    \"vect__ngram_range\": [(1,1),(1,2),(2,2)],\n",
        "    \"tfidf__use_idf\": [True, False],\n",
        "    \"clf__C\": [0.001, 0.01, 0.1, 1, 10, 100],\n",
        "}\n",
        "\n",
        "seed = 551\n",
        "\n",
        "random_search = RandomizedSearchCV(\n",
        "    pclf,\n",
        "    param_distributions = params,\n",
        "    cv=2, # 2-fold cross validation\n",
        "    verbose = 5,\n",
        "    random_state = seed,\n",
        "    n_iter = 5,\n",
        "    return_train_score=True,\n",
        ")\n",
        "\n",
        "random_search.fit(X_train, y_train)"
      ],
      "execution_count": 0,
      "outputs": [
        {
          "output_type": "stream",
          "text": [
            "Fitting 2 folds for each of 5 candidates, totalling 10 fits\n",
            "[CV] vect__ngram_range=(1, 2), tfidf__use_idf=True, clf__C=0.01 ......\n"
          ],
          "name": "stdout"
        },
        {
          "output_type": "stream",
          "text": [
            "[Parallel(n_jobs=1)]: Using backend SequentialBackend with 1 concurrent workers.\n"
          ],
          "name": "stderr"
        },
        {
          "output_type": "stream",
          "text": [
            "[CV]  vect__ngram_range=(1, 2), tfidf__use_idf=True, clf__C=0.01, score=0.7628, total=13.4min\n",
            "[CV] vect__ngram_range=(1, 2), tfidf__use_idf=True, clf__C=0.01 ......\n"
          ],
          "name": "stdout"
        },
        {
          "output_type": "stream",
          "text": [
            "[Parallel(n_jobs=1)]: Done   1 out of   1 | elapsed: 20.2min remaining:    0.0s\n"
          ],
          "name": "stderr"
        },
        {
          "output_type": "stream",
          "text": [
            "[CV]  vect__ngram_range=(1, 2), tfidf__use_idf=True, clf__C=0.01, score=0.72704, total=13.4min\n",
            "[CV] vect__ngram_range=(1, 2), tfidf__use_idf=True, clf__C=0.001 .....\n"
          ],
          "name": "stdout"
        },
        {
          "output_type": "stream",
          "text": [
            "[Parallel(n_jobs=1)]: Done   2 out of   2 | elapsed: 40.3min remaining:    0.0s\n"
          ],
          "name": "stderr"
        },
        {
          "output_type": "stream",
          "text": [
            "[CV]  vect__ngram_range=(1, 2), tfidf__use_idf=True, clf__C=0.001, score=0.7628, total=13.5min\n",
            "[CV] vect__ngram_range=(1, 2), tfidf__use_idf=True, clf__C=0.001 .....\n"
          ],
          "name": "stdout"
        },
        {
          "output_type": "stream",
          "text": [
            "[Parallel(n_jobs=1)]: Done   3 out of   3 | elapsed: 60.6min remaining:    0.0s\n"
          ],
          "name": "stderr"
        },
        {
          "output_type": "stream",
          "text": [
            "[CV]  vect__ngram_range=(1, 2), tfidf__use_idf=True, clf__C=0.001, score=0.72704, total=13.4min\n",
            "[CV] vect__ngram_range=(1, 1), tfidf__use_idf=False, clf__C=0.1 ......\n"
          ],
          "name": "stdout"
        },
        {
          "output_type": "stream",
          "text": [
            "[Parallel(n_jobs=1)]: Done   4 out of   4 | elapsed: 80.8min remaining:    0.0s\n"
          ],
          "name": "stderr"
        },
        {
          "output_type": "stream",
          "text": [
            "[CV]  vect__ngram_range=(1, 1), tfidf__use_idf=False, clf__C=0.1, score=0.8004, total= 5.7min\n",
            "[CV] vect__ngram_range=(1, 1), tfidf__use_idf=False, clf__C=0.1 ......\n",
            "[CV]  vect__ngram_range=(1, 1), tfidf__use_idf=False, clf__C=0.1, score=0.78904, total= 5.6min\n",
            "[CV] vect__ngram_range=(1, 2), tfidf__use_idf=False, clf__C=100 ......\n",
            "[CV]  vect__ngram_range=(1, 2), tfidf__use_idf=False, clf__C=100, score=0.8864, total=16.6min\n",
            "[CV] vect__ngram_range=(1, 2), tfidf__use_idf=False, clf__C=100 ......\n",
            "[CV]  vect__ngram_range=(1, 2), tfidf__use_idf=False, clf__C=100, score=0.88312, total=16.0min\n",
            "[CV] vect__ngram_range=(1, 1), tfidf__use_idf=True, clf__C=100 .......\n",
            "[CV]  vect__ngram_range=(1, 1), tfidf__use_idf=True, clf__C=100, score=0.86728, total= 6.5min\n",
            "[CV] vect__ngram_range=(1, 1), tfidf__use_idf=True, clf__C=100 .......\n",
            "[CV]  vect__ngram_range=(1, 1), tfidf__use_idf=True, clf__C=100, score=0.86312, total= 6.5min\n"
          ],
          "name": "stdout"
        },
        {
          "output_type": "stream",
          "text": [
            "[Parallel(n_jobs=1)]: Done  10 out of  10 | elapsed: 154.6min finished\n"
          ],
          "name": "stderr"
        },
        {
          "output_type": "execute_result",
          "data": {
            "text/plain": [
              "RandomizedSearchCV(cv=2, error_score='raise-deprecating',\n",
              "          estimator=Pipeline(memory=None,\n",
              "     steps=[('vect', CountVectorizer(analyzer='word', binary=False, decode_error='strict',\n",
              "        dtype=<class 'numpy.int64'>, encoding='utf-8', input='content',\n",
              "        lowercase=True, max_df=1.0, max_features=None, min_df=1,\n",
              "        ngram_range=(1, 1), preprocessor=None, stop_words=None,\n",
              "        strip...r', max_iter=-1, probability=False, random_state=None,\n",
              "  shrinking=True, tol=0.001, verbose=False))]),\n",
              "          fit_params=None, iid='warn', n_iter=5, n_jobs=None,\n",
              "          param_distributions={'vect__ngram_range': [(1, 1), (1, 2), (2, 2)], 'tfidf__use_idf': [True, False], 'clf__C': [0.001, 0.01, 0.1, 1, 10, 100]},\n",
              "          pre_dispatch='2*n_jobs', random_state=551, refit=True,\n",
              "          return_train_score=True, scoring=None, verbose=5)"
            ]
          },
          "metadata": {
            "tags": []
          },
          "execution_count": 6
        }
      ]
    },
    {
      "metadata": {
        "id": "2X8iavZf8jQT",
        "colab_type": "code",
        "outputId": "8af8ba42-24da-4c03-e619-5719a3f1533f",
        "colab": {
          "base_uri": "https://localhost:8080/",
          "height": 163
        }
      },
      "cell_type": "code",
      "source": [
        "report(random_search.cv_results_)"
      ],
      "execution_count": 0,
      "outputs": [
        {
          "output_type": "error",
          "ename": "NameError",
          "evalue": "ignored",
          "traceback": [
            "\u001b[0;31m---------------------------------------------------------------------------\u001b[0m",
            "\u001b[0;31mNameError\u001b[0m                                 Traceback (most recent call last)",
            "\u001b[0;32m<ipython-input-1-14a2b2b295f5>\u001b[0m in \u001b[0;36m<module>\u001b[0;34m()\u001b[0m\n\u001b[0;32m----> 1\u001b[0;31m \u001b[0mreport\u001b[0m\u001b[0;34m(\u001b[0m\u001b[0mrandom_search\u001b[0m\u001b[0;34m.\u001b[0m\u001b[0mcv_results_\u001b[0m\u001b[0;34m)\u001b[0m\u001b[0;34m\u001b[0m\u001b[0;34m\u001b[0m\u001b[0m\n\u001b[0m",
            "\u001b[0;31mNameError\u001b[0m: name 'report' is not defined"
          ]
        }
      ]
    },
    {
      "metadata": {
        "id": "khahxDt-iIqW",
        "colab_type": "text"
      },
      "cell_type": "markdown",
      "source": [
        "## Experimentation with feature extraction pipelines"
      ]
    },
    {
      "metadata": {
        "id": "c_r27PR1Un2B",
        "colab_type": "text"
      },
      "cell_type": "markdown",
      "source": [
        "Multiple features will be tested on logistic regression, all with 5-fold cross validation."
      ]
    },
    {
      "metadata": {
        "id": "6jaz4HOGQhqA",
        "colab_type": "text"
      },
      "cell_type": "markdown",
      "source": [
        "#### Only Bag of Words"
      ]
    },
    {
      "metadata": {
        "id": "lbuUYVAFBdhR",
        "colab_type": "code",
        "outputId": "d3a8162f-20c2-4b27-8368-3a62164f5c31",
        "colab": {
          "base_uri": "https://localhost:8080/",
          "height": 479
        }
      },
      "cell_type": "code",
      "source": [
        "from sklearn.pipeline import Pipeline\n",
        "from sklearn.feature_extraction.text import CountVectorizer, TfidfTransformer\n",
        "from sklearn.model_selection import GridSearchCV\n",
        "\n",
        "# Just BoW\n",
        "\n",
        "pclf = Pipeline([\n",
        "    ('vect', CountVectorizer()),\n",
        "    ('clf', LR(C=1e42)), # no regularization\n",
        "])\n",
        "\n",
        "pclf.fit(X_train, y_train)\n",
        "\n",
        "params = {}\n",
        "\n",
        "grid_search = GridSearchCV(\n",
        "    pclf,\n",
        "    param_grid=params,\n",
        "    cv=5, # 5-fold cross validation\n",
        "    verbose = 10,\n",
        "    return_train_score=True,\n",
        ")\n",
        "\n",
        "grid_search.fit(X_train, y_train)\n",
        "\n",
        "report(grid_search.cv_results_)"
      ],
      "execution_count": 0,
      "outputs": [
        {
          "output_type": "stream",
          "text": [
            "/usr/local/lib/python3.6/dist-packages/sklearn/linear_model/logistic.py:433: FutureWarning: Default solver will be changed to 'lbfgs' in 0.22. Specify a solver to silence this warning.\n",
            "  FutureWarning)\n"
          ],
          "name": "stderr"
        },
        {
          "output_type": "stream",
          "text": [
            "Fitting 5 folds for each of 1 candidates, totalling 5 fits\n",
            "[CV]  ................................................................\n"
          ],
          "name": "stdout"
        },
        {
          "output_type": "stream",
          "text": [
            "[Parallel(n_jobs=1)]: Using backend SequentialBackend with 1 concurrent workers.\n",
            "/usr/local/lib/python3.6/dist-packages/sklearn/linear_model/logistic.py:433: FutureWarning: Default solver will be changed to 'lbfgs' in 0.22. Specify a solver to silence this warning.\n",
            "  FutureWarning)\n"
          ],
          "name": "stderr"
        },
        {
          "output_type": "stream",
          "text": [
            "[CV] ................................... , score=0.8774, total=  23.9s\n",
            "[CV]  ................................................................\n"
          ],
          "name": "stdout"
        },
        {
          "output_type": "stream",
          "text": [
            "[Parallel(n_jobs=1)]: Done   1 out of   1 | elapsed:   27.8s remaining:    0.0s\n"
          ],
          "name": "stderr"
        },
        {
          "output_type": "stream",
          "text": [
            "[CV] ................................... , score=0.8614, total=  21.5s\n",
            "[CV]  ................................................................\n"
          ],
          "name": "stdout"
        },
        {
          "output_type": "stream",
          "text": [
            "[Parallel(n_jobs=1)]: Done   2 out of   2 | elapsed:   53.2s remaining:    0.0s\n"
          ],
          "name": "stderr"
        },
        {
          "output_type": "stream",
          "text": [
            "[CV] .................................... , score=0.869, total=  22.2s\n",
            "[CV]  ................................................................\n"
          ],
          "name": "stdout"
        },
        {
          "output_type": "stream",
          "text": [
            "[Parallel(n_jobs=1)]: Done   3 out of   3 | elapsed:  1.3min remaining:    0.0s\n"
          ],
          "name": "stderr"
        },
        {
          "output_type": "stream",
          "text": [
            "[CV] .................................... , score=0.858, total=  21.6s\n",
            "[CV]  ................................................................\n"
          ],
          "name": "stdout"
        },
        {
          "output_type": "stream",
          "text": [
            "[Parallel(n_jobs=1)]: Done   4 out of   4 | elapsed:  1.7min remaining:    0.0s\n"
          ],
          "name": "stderr"
        },
        {
          "output_type": "stream",
          "text": [
            "[CV] ................................... , score=0.8714, total=  23.8s\n"
          ],
          "name": "stdout"
        },
        {
          "output_type": "stream",
          "text": [
            "[Parallel(n_jobs=1)]: Done   5 out of   5 | elapsed:  2.2min remaining:    0.0s\n",
            "[Parallel(n_jobs=1)]: Done   5 out of   5 | elapsed:  2.2min finished\n"
          ],
          "name": "stderr"
        },
        {
          "output_type": "stream",
          "text": [
            "Model with rank: 1\n",
            "Mean validation score: 0.867 (std: 0.007)\n",
            "Parameters: {}\n",
            "\n"
          ],
          "name": "stdout"
        }
      ]
    },
    {
      "metadata": {
        "id": "BmwKiLeaE1Am",
        "colab_type": "text"
      },
      "cell_type": "markdown",
      "source": [
        "**Report:**  \n",
        "Model with rank: 1  \n",
        "Mean validation score: 0.0.867 (std: 0.007)  \n",
        "Parameters: Only BoW  "
      ]
    },
    {
      "metadata": {
        "id": "P-YMR8yCQny4",
        "colab_type": "text"
      },
      "cell_type": "markdown",
      "source": [
        "#### TF\\*IDF"
      ]
    },
    {
      "metadata": {
        "id": "GKfdR-V5CjmH",
        "colab_type": "code",
        "outputId": "e39450e7-4642-40ce-f16a-20e15b2f1556",
        "colab": {
          "base_uri": "https://localhost:8080/",
          "height": 751
        }
      },
      "cell_type": "code",
      "source": [
        "# TF*IDF\n",
        "\n",
        "pclf = Pipeline([\n",
        "    ('vect', CountVectorizer()),\n",
        "    ('tfidf', TfidfTransformer()),\n",
        "    ('clf', LR(C=1e42)), # no regularization\n",
        "])\n",
        "\n",
        "params = {\n",
        "    \"tfidf__use_idf\": [True, False],\n",
        "}\n",
        "\n",
        "grid_search = GridSearchCV(\n",
        "    pclf,\n",
        "    param_grid=params,\n",
        "    cv=5, # 5-fold cross validation\n",
        "    verbose = 10,\n",
        "    return_train_score=True,\n",
        ")\n",
        "\n",
        "grid_search.fit(X_train, y_train)\n",
        "\n",
        "report(grid_search.cv_results_)"
      ],
      "execution_count": 0,
      "outputs": [
        {
          "output_type": "stream",
          "text": [
            "Fitting 5 folds for each of 2 candidates, totalling 10 fits\n",
            "[CV] tfidf__use_idf=True .............................................\n"
          ],
          "name": "stdout"
        },
        {
          "output_type": "stream",
          "text": [
            "[Parallel(n_jobs=1)]: Using backend SequentialBackend with 1 concurrent workers.\n",
            "/usr/local/lib/python3.6/dist-packages/sklearn/linear_model/logistic.py:433: FutureWarning: Default solver will be changed to 'lbfgs' in 0.22. Specify a solver to silence this warning.\n",
            "  FutureWarning)\n"
          ],
          "name": "stderr"
        },
        {
          "output_type": "stream",
          "text": [
            "[CV] .................. tfidf__use_idf=True, score=0.88, total=  12.4s\n",
            "[CV] tfidf__use_idf=True .............................................\n"
          ],
          "name": "stdout"
        },
        {
          "output_type": "stream",
          "text": [
            "[Parallel(n_jobs=1)]: Done   1 out of   1 | elapsed:   16.4s remaining:    0.0s\n"
          ],
          "name": "stderr"
        },
        {
          "output_type": "stream",
          "text": [
            "[CV] ................ tfidf__use_idf=True, score=0.8668, total=  12.3s\n",
            "[CV] tfidf__use_idf=True .............................................\n"
          ],
          "name": "stdout"
        },
        {
          "output_type": "stream",
          "text": [
            "[Parallel(n_jobs=1)]: Done   2 out of   2 | elapsed:   32.7s remaining:    0.0s\n"
          ],
          "name": "stderr"
        },
        {
          "output_type": "stream",
          "text": [
            "[CV] ................. tfidf__use_idf=True, score=0.874, total=  12.2s\n",
            "[CV] tfidf__use_idf=True .............................................\n"
          ],
          "name": "stdout"
        },
        {
          "output_type": "stream",
          "text": [
            "[Parallel(n_jobs=1)]: Done   3 out of   3 | elapsed:   49.0s remaining:    0.0s\n"
          ],
          "name": "stderr"
        },
        {
          "output_type": "stream",
          "text": [
            "[CV] ................ tfidf__use_idf=True, score=0.8636, total=  11.7s\n",
            "[CV] tfidf__use_idf=True .............................................\n"
          ],
          "name": "stdout"
        },
        {
          "output_type": "stream",
          "text": [
            "[Parallel(n_jobs=1)]: Done   4 out of   4 | elapsed:  1.1min remaining:    0.0s\n"
          ],
          "name": "stderr"
        },
        {
          "output_type": "stream",
          "text": [
            "[CV] ................ tfidf__use_idf=True, score=0.8698, total=  12.0s\n",
            "[CV] tfidf__use_idf=False ............................................\n"
          ],
          "name": "stdout"
        },
        {
          "output_type": "stream",
          "text": [
            "[Parallel(n_jobs=1)]: Done   5 out of   5 | elapsed:  1.3min remaining:    0.0s\n"
          ],
          "name": "stderr"
        },
        {
          "output_type": "stream",
          "text": [
            "[CV] ............... tfidf__use_idf=False, score=0.8766, total=  20.7s\n",
            "[CV] tfidf__use_idf=False ............................................\n"
          ],
          "name": "stdout"
        },
        {
          "output_type": "stream",
          "text": [
            "[Parallel(n_jobs=1)]: Done   6 out of   6 | elapsed:  1.8min remaining:    0.0s\n"
          ],
          "name": "stderr"
        },
        {
          "output_type": "stream",
          "text": [
            "[CV] ............... tfidf__use_idf=False, score=0.8688, total=  18.2s\n",
            "[CV] tfidf__use_idf=False ............................................\n"
          ],
          "name": "stdout"
        },
        {
          "output_type": "stream",
          "text": [
            "[Parallel(n_jobs=1)]: Done   7 out of   7 | elapsed:  2.1min remaining:    0.0s\n"
          ],
          "name": "stderr"
        },
        {
          "output_type": "stream",
          "text": [
            "[CV] ............... tfidf__use_idf=False, score=0.8732, total=  19.1s\n",
            "[CV] tfidf__use_idf=False ............................................\n"
          ],
          "name": "stdout"
        },
        {
          "output_type": "stream",
          "text": [
            "[Parallel(n_jobs=1)]: Done   8 out of   8 | elapsed:  2.5min remaining:    0.0s\n"
          ],
          "name": "stderr"
        },
        {
          "output_type": "stream",
          "text": [
            "[CV] ................ tfidf__use_idf=False, score=0.864, total=  17.5s\n",
            "[CV] tfidf__use_idf=False ............................................\n"
          ],
          "name": "stdout"
        },
        {
          "output_type": "stream",
          "text": [
            "[Parallel(n_jobs=1)]: Done   9 out of   9 | elapsed:  2.9min remaining:    0.0s\n"
          ],
          "name": "stderr"
        },
        {
          "output_type": "stream",
          "text": [
            "[CV] ............... tfidf__use_idf=False, score=0.8706, total=  18.2s\n"
          ],
          "name": "stdout"
        },
        {
          "output_type": "stream",
          "text": [
            "[Parallel(n_jobs=1)]: Done  10 out of  10 | elapsed:  3.2min finished\n"
          ],
          "name": "stderr"
        },
        {
          "output_type": "stream",
          "text": [
            "Model with rank: 1\n",
            "Mean validation score: 0.871 (std: 0.006)\n",
            "Parameters: {'tfidf__use_idf': True}\n",
            "\n",
            "Model with rank: 2\n",
            "Mean validation score: 0.871 (std: 0.004)\n",
            "Parameters: {'tfidf__use_idf': False}\n",
            "\n"
          ],
          "name": "stdout"
        }
      ]
    },
    {
      "metadata": {
        "id": "w3E7wF2OE2mE",
        "colab_type": "text"
      },
      "cell_type": "markdown",
      "source": [
        "**Report:**  \n",
        "Model with rank: 1  \n",
        "Mean validation score: 0.871 (std: 0.006)  \n",
        "Parameters: {'tfidf__use_idf': True}  \n",
        "\n",
        "Model with rank: 2  \n",
        "Mean validation score: 0.871 (std: 0.004)  \n",
        "Parameters: {'tfidf__use_idf': False}  "
      ]
    },
    {
      "metadata": {
        "id": "TtRCNTCjQtDA",
        "colab_type": "text"
      },
      "cell_type": "markdown",
      "source": [
        "#### TF\\*IDF and Bigrams"
      ]
    },
    {
      "metadata": {
        "id": "y525Bc_gEXwI",
        "colab_type": "code",
        "outputId": "9d792202-1cb0-4d66-d90f-a1dd14f7d56d",
        "colab": {
          "base_uri": "https://localhost:8080/",
          "height": 445
        }
      },
      "cell_type": "code",
      "source": [
        "# Bigrams with TF*IDF\n",
        "\n",
        "pclf = Pipeline([\n",
        "    ('vect', CountVectorizer()),\n",
        "    ('tfidf', TfidfTransformer()),\n",
        "    ('clf', LR(C=1e42)), # no regularization\n",
        "])\n",
        "\n",
        "params = {\n",
        "    \"vect__ngram_range\": [(1,2)], # bigrams\n",
        "    \"tfidf__use_idf\": [True],\n",
        "}\n",
        "\n",
        "grid_search = GridSearchCV(\n",
        "    pclf,\n",
        "    param_grid=params,\n",
        "    cv=5, # 5-fold cross validation\n",
        "    verbose = 10,\n",
        "    return_train_score=True,\n",
        ")\n",
        "\n",
        "grid_search.fit(X_train, y_train)\n",
        "\n",
        "report(grid_search.cv_results_)"
      ],
      "execution_count": 0,
      "outputs": [
        {
          "output_type": "stream",
          "text": [
            "Fitting 5 folds for each of 1 candidates, totalling 5 fits\n",
            "[CV] tfidf__use_idf=True, vect__ngram_range=(1, 2) ...................\n"
          ],
          "name": "stdout"
        },
        {
          "output_type": "stream",
          "text": [
            "[Parallel(n_jobs=1)]: Using backend SequentialBackend with 1 concurrent workers.\n",
            "/usr/local/lib/python3.6/dist-packages/sklearn/linear_model/logistic.py:433: FutureWarning: Default solver will be changed to 'lbfgs' in 0.22. Specify a solver to silence this warning.\n",
            "  FutureWarning)\n"
          ],
          "name": "stderr"
        },
        {
          "output_type": "stream",
          "text": [
            "[CV]  tfidf__use_idf=True, vect__ngram_range=(1, 2), score=0.915, total=  42.5s\n",
            "[CV] tfidf__use_idf=True, vect__ngram_range=(1, 2) ...................\n"
          ],
          "name": "stdout"
        },
        {
          "output_type": "stream",
          "text": [
            "[Parallel(n_jobs=1)]: Done   1 out of   1 | elapsed:   54.3s remaining:    0.0s\n"
          ],
          "name": "stderr"
        },
        {
          "output_type": "stream",
          "text": [
            "[CV]  tfidf__use_idf=True, vect__ngram_range=(1, 2), score=0.9112, total=  42.3s\n",
            "[CV] tfidf__use_idf=True, vect__ngram_range=(1, 2) ...................\n"
          ],
          "name": "stdout"
        },
        {
          "output_type": "stream",
          "text": [
            "[Parallel(n_jobs=1)]: Done   2 out of   2 | elapsed:  1.8min remaining:    0.0s\n"
          ],
          "name": "stderr"
        },
        {
          "output_type": "stream",
          "text": [
            "[CV]  tfidf__use_idf=True, vect__ngram_range=(1, 2), score=0.9104, total=  43.1s\n",
            "[CV] tfidf__use_idf=True, vect__ngram_range=(1, 2) ...................\n"
          ],
          "name": "stdout"
        },
        {
          "output_type": "stream",
          "text": [
            "[Parallel(n_jobs=1)]: Done   3 out of   3 | elapsed:  2.8min remaining:    0.0s\n"
          ],
          "name": "stderr"
        },
        {
          "output_type": "stream",
          "text": [
            "[CV]  tfidf__use_idf=True, vect__ngram_range=(1, 2), score=0.9006, total=  48.9s\n",
            "[CV] tfidf__use_idf=True, vect__ngram_range=(1, 2) ...................\n"
          ],
          "name": "stdout"
        },
        {
          "output_type": "stream",
          "text": [
            "[Parallel(n_jobs=1)]: Done   4 out of   4 | elapsed:  3.8min remaining:    0.0s\n"
          ],
          "name": "stderr"
        },
        {
          "output_type": "stream",
          "text": [
            "[CV]  tfidf__use_idf=True, vect__ngram_range=(1, 2), score=0.9076, total=  47.0s\n"
          ],
          "name": "stdout"
        },
        {
          "output_type": "stream",
          "text": [
            "[Parallel(n_jobs=1)]: Done   5 out of   5 | elapsed:  4.8min remaining:    0.0s\n",
            "[Parallel(n_jobs=1)]: Done   5 out of   5 | elapsed:  4.8min finished\n"
          ],
          "name": "stderr"
        },
        {
          "output_type": "stream",
          "text": [
            "Model with rank: 1\n",
            "Mean validation score: 0.909 (std: 0.005)\n",
            "Parameters: {'tfidf__use_idf': True, 'vect__ngram_range': (1, 2)}\n",
            "\n"
          ],
          "name": "stdout"
        }
      ]
    },
    {
      "metadata": {
        "id": "PghdYJkhM-3-",
        "colab_type": "code",
        "colab": {}
      },
      "cell_type": "code",
      "source": [
        "import pandas as pd\n",
        "reports_path = project_dir / 'reports'\n",
        "\n",
        "# Predict from test data\n",
        "y_test_pred = grid_search.predict(X_test)\n",
        "\n",
        "# Export to CSV file\n",
        "pd.DataFrame(y_test_pred, columns=['Category']).to_csv(reports_path / 'prediction_5.csv')"
      ],
      "execution_count": 0,
      "outputs": []
    },
    {
      "metadata": {
        "id": "6rtATEgsE3Ui",
        "colab_type": "text"
      },
      "cell_type": "markdown",
      "source": [
        "**Report:**  \n",
        "Model with rank: 1  \n",
        "Mean validation score: 0.909 (std: 0.005)  \n",
        "Parameters: {'tfidf__use_idf': True, 'vect__ngram_range': (1, 2)}  \n",
        "\n"
      ]
    },
    {
      "metadata": {
        "id": "mtEkdk2OQygx",
        "colab_type": "text"
      },
      "cell_type": "markdown",
      "source": [
        "#### TF\\*IDF, Bigrams, L2 Regularization"
      ]
    },
    {
      "metadata": {
        "id": "BNeDkJuWHrU0",
        "colab_type": "code",
        "outputId": "dc334327-150a-4f44-97d3-1aa540584c24",
        "colab": {
          "base_uri": "https://localhost:8080/",
          "height": 989
        }
      },
      "cell_type": "code",
      "source": [
        "# Bigrams, TF*IDF and L2 regularization\n",
        "\n",
        "pclf = Pipeline([\n",
        "    ('vect', CountVectorizer()),\n",
        "    ('tfidf', TfidfTransformer()),\n",
        "    ('clf', LR(penalty='l2')), # L2 regularization\n",
        "])\n",
        "\n",
        "params = {\n",
        "    \"vect__ngram_range\": [(1,2)], # bigrams\n",
        "    \"tfidf__use_idf\": [True],\n",
        "    \"clf__C\": [1,10,100]\n",
        "}\n",
        "\n",
        "grid_search = GridSearchCV(\n",
        "    pclf,\n",
        "    param_grid=params,\n",
        "    cv=5, # 5-fold cross validation\n",
        "    verbose = 10,\n",
        "    return_train_score=True,\n",
        ")\n",
        "\n",
        "grid_search.fit(X_train, y_train)\n",
        "\n",
        "report(grid_search.cv_results_)"
      ],
      "execution_count": 0,
      "outputs": [
        {
          "output_type": "stream",
          "text": [
            "Fitting 5 folds for each of 3 candidates, totalling 15 fits\n",
            "[CV] clf__C=1, tfidf__use_idf=True, vect__ngram_range=(1, 2) .........\n"
          ],
          "name": "stdout"
        },
        {
          "output_type": "stream",
          "text": [
            "[Parallel(n_jobs=1)]: Using backend SequentialBackend with 1 concurrent workers.\n",
            "/usr/local/lib/python3.6/dist-packages/sklearn/linear_model/logistic.py:433: FutureWarning: Default solver will be changed to 'lbfgs' in 0.22. Specify a solver to silence this warning.\n",
            "  FutureWarning)\n"
          ],
          "name": "stderr"
        },
        {
          "output_type": "stream",
          "text": [
            "[CV]  clf__C=1, tfidf__use_idf=True, vect__ngram_range=(1, 2), score=0.8958, total=  32.1s\n",
            "[CV] clf__C=1, tfidf__use_idf=True, vect__ngram_range=(1, 2) .........\n"
          ],
          "name": "stdout"
        },
        {
          "output_type": "stream",
          "text": [
            "[Parallel(n_jobs=1)]: Done   1 out of   1 | elapsed:   45.3s remaining:    0.0s\n"
          ],
          "name": "stderr"
        },
        {
          "output_type": "stream",
          "text": [
            "[CV]  clf__C=1, tfidf__use_idf=True, vect__ngram_range=(1, 2), score=0.8868, total=  32.4s\n",
            "[CV] clf__C=1, tfidf__use_idf=True, vect__ngram_range=(1, 2) .........\n"
          ],
          "name": "stdout"
        },
        {
          "output_type": "stream",
          "text": [
            "[Parallel(n_jobs=1)]: Done   2 out of   2 | elapsed:  1.5min remaining:    0.0s\n"
          ],
          "name": "stderr"
        },
        {
          "output_type": "stream",
          "text": [
            "[CV]  clf__C=1, tfidf__use_idf=True, vect__ngram_range=(1, 2), score=0.8858, total=  32.2s\n",
            "[CV] clf__C=1, tfidf__use_idf=True, vect__ngram_range=(1, 2) .........\n"
          ],
          "name": "stdout"
        },
        {
          "output_type": "stream",
          "text": [
            "[Parallel(n_jobs=1)]: Done   3 out of   3 | elapsed:  2.3min remaining:    0.0s\n"
          ],
          "name": "stderr"
        },
        {
          "output_type": "stream",
          "text": [
            "[CV]  clf__C=1, tfidf__use_idf=True, vect__ngram_range=(1, 2), score=0.8822, total=  32.0s\n",
            "[CV] clf__C=1, tfidf__use_idf=True, vect__ngram_range=(1, 2) .........\n"
          ],
          "name": "stdout"
        },
        {
          "output_type": "stream",
          "text": [
            "[Parallel(n_jobs=1)]: Done   4 out of   4 | elapsed:  3.0min remaining:    0.0s\n"
          ],
          "name": "stderr"
        },
        {
          "output_type": "stream",
          "text": [
            "[CV]  clf__C=1, tfidf__use_idf=True, vect__ngram_range=(1, 2), score=0.8866, total=  32.2s\n",
            "[CV] clf__C=10, tfidf__use_idf=True, vect__ngram_range=(1, 2) ........\n"
          ],
          "name": "stdout"
        },
        {
          "output_type": "stream",
          "text": [
            "[Parallel(n_jobs=1)]: Done   5 out of   5 | elapsed:  3.8min remaining:    0.0s\n"
          ],
          "name": "stderr"
        },
        {
          "output_type": "stream",
          "text": [
            "[CV]  clf__C=10, tfidf__use_idf=True, vect__ngram_range=(1, 2), score=0.9088, total=  39.5s\n",
            "[CV] clf__C=10, tfidf__use_idf=True, vect__ngram_range=(1, 2) ........\n"
          ],
          "name": "stdout"
        },
        {
          "output_type": "stream",
          "text": [
            "[Parallel(n_jobs=1)]: Done   6 out of   6 | elapsed:  4.7min remaining:    0.0s\n"
          ],
          "name": "stderr"
        },
        {
          "output_type": "stream",
          "text": [
            "[CV]  clf__C=10, tfidf__use_idf=True, vect__ngram_range=(1, 2), score=0.906, total=  39.3s\n",
            "[CV] clf__C=10, tfidf__use_idf=True, vect__ngram_range=(1, 2) ........\n"
          ],
          "name": "stdout"
        },
        {
          "output_type": "stream",
          "text": [
            "[Parallel(n_jobs=1)]: Done   7 out of   7 | elapsed:  5.5min remaining:    0.0s\n"
          ],
          "name": "stderr"
        },
        {
          "output_type": "stream",
          "text": [
            "[CV]  clf__C=10, tfidf__use_idf=True, vect__ngram_range=(1, 2), score=0.9002, total=  36.6s\n",
            "[CV] clf__C=10, tfidf__use_idf=True, vect__ngram_range=(1, 2) ........\n"
          ],
          "name": "stdout"
        },
        {
          "output_type": "stream",
          "text": [
            "[Parallel(n_jobs=1)]: Done   8 out of   8 | elapsed:  6.4min remaining:    0.0s\n"
          ],
          "name": "stderr"
        },
        {
          "output_type": "stream",
          "text": [
            "[CV]  clf__C=10, tfidf__use_idf=True, vect__ngram_range=(1, 2), score=0.8982, total=  38.4s\n",
            "[CV] clf__C=10, tfidf__use_idf=True, vect__ngram_range=(1, 2) ........\n"
          ],
          "name": "stdout"
        },
        {
          "output_type": "stream",
          "text": [
            "[Parallel(n_jobs=1)]: Done   9 out of   9 | elapsed:  7.2min remaining:    0.0s\n"
          ],
          "name": "stderr"
        },
        {
          "output_type": "stream",
          "text": [
            "[CV]  clf__C=10, tfidf__use_idf=True, vect__ngram_range=(1, 2), score=0.9032, total=  38.3s\n",
            "[CV] clf__C=100, tfidf__use_idf=True, vect__ngram_range=(1, 2) .......\n",
            "[CV]  clf__C=100, tfidf__use_idf=True, vect__ngram_range=(1, 2), score=0.91, total=  42.0s\n",
            "[CV] clf__C=100, tfidf__use_idf=True, vect__ngram_range=(1, 2) .......\n",
            "[CV]  clf__C=100, tfidf__use_idf=True, vect__ngram_range=(1, 2), score=0.9094, total=  40.6s\n",
            "[CV] clf__C=100, tfidf__use_idf=True, vect__ngram_range=(1, 2) .......\n",
            "[CV]  clf__C=100, tfidf__use_idf=True, vect__ngram_range=(1, 2), score=0.9036, total=  40.2s\n",
            "[CV] clf__C=100, tfidf__use_idf=True, vect__ngram_range=(1, 2) .......\n",
            "[CV]  clf__C=100, tfidf__use_idf=True, vect__ngram_range=(1, 2), score=0.9012, total=  37.5s\n",
            "[CV] clf__C=100, tfidf__use_idf=True, vect__ngram_range=(1, 2) .......\n",
            "[CV]  clf__C=100, tfidf__use_idf=True, vect__ngram_range=(1, 2), score=0.9078, total=  39.3s\n"
          ],
          "name": "stdout"
        },
        {
          "output_type": "stream",
          "text": [
            "[Parallel(n_jobs=1)]: Done  15 out of  15 | elapsed: 12.4min finished\n"
          ],
          "name": "stderr"
        },
        {
          "output_type": "stream",
          "text": [
            "Model with rank: 1\n",
            "Mean validation score: 0.906 (std: 0.003)\n",
            "Parameters: {'clf__C': 100, 'tfidf__use_idf': True, 'vect__ngram_range': (1, 2)}\n",
            "\n",
            "Model with rank: 2\n",
            "Mean validation score: 0.903 (std: 0.004)\n",
            "Parameters: {'clf__C': 10, 'tfidf__use_idf': True, 'vect__ngram_range': (1, 2)}\n",
            "\n",
            "Model with rank: 3\n",
            "Mean validation score: 0.887 (std: 0.004)\n",
            "Parameters: {'clf__C': 1, 'tfidf__use_idf': True, 'vect__ngram_range': (1, 2)}\n",
            "\n"
          ],
          "name": "stdout"
        }
      ]
    },
    {
      "metadata": {
        "id": "oahB0-b7L5Tm",
        "colab_type": "text"
      },
      "cell_type": "markdown",
      "source": [
        "**Report:**  \n",
        "Model with rank: 1  \n",
        "Mean validation score: 0.906 (std: 0.003)  \n",
        "Parameters: {'clf__C': 100, 'tfidf__use_idf': True, 'vect__ngram_range': (1, 2)}  \n",
        "\n",
        "Model with rank: 2  \n",
        "Mean validation score: 0.903 (std: 0.004)  \n",
        "Parameters: {'clf__C': 10, 'tfidf__use_idf': True, 'vect__ngram_range': (1, 2)}  \n",
        "\n",
        "Model with rank: 3  \n",
        "Mean validation score: 0.887 (std: 0.004)  \n",
        "Parameters: {'clf__C': 1, 'tfidf__use_idf': True, 'vect__ngram_range': (1, 2)}  "
      ]
    },
    {
      "metadata": {
        "id": "RabOXw-OQ4Rd",
        "colab_type": "text"
      },
      "cell_type": "markdown",
      "source": [
        "#### TF\\*IDF, Bigrams, L1 Regularization"
      ]
    },
    {
      "metadata": {
        "id": "Y8f_5-fCMTiy",
        "colab_type": "code",
        "outputId": "81f7bb75-6772-48fb-8caf-6c38281221c6",
        "colab": {
          "base_uri": "https://localhost:8080/",
          "height": 989
        }
      },
      "cell_type": "code",
      "source": [
        "# Bigrams, TF*IDF and L1 regularization\n",
        "\n",
        "pclf = Pipeline([\n",
        "    ('vect', CountVectorizer()),\n",
        "    ('tfidf', TfidfTransformer()),\n",
        "    ('clf', LR(penalty='l1')), # L1 regularization\n",
        "])\n",
        "\n",
        "params = {\n",
        "    \"vect__ngram_range\": [(1,2)], # bigrams\n",
        "    \"tfidf__use_idf\": [True],\n",
        "    \"clf__C\": [1,10,100]\n",
        "}\n",
        "\n",
        "grid_search = GridSearchCV(\n",
        "    pclf,\n",
        "    param_grid=params,\n",
        "    cv=5, # 5-fold cross validation\n",
        "    verbose = 10,\n",
        "    return_train_score=True,\n",
        ")\n",
        "\n",
        "grid_search.fit(X_train, y_train)\n",
        "\n",
        "report(grid_search.cv_results_)"
      ],
      "execution_count": 0,
      "outputs": [
        {
          "output_type": "stream",
          "text": [
            "Fitting 5 folds for each of 3 candidates, totalling 15 fits\n",
            "[CV] clf__C=1, tfidf__use_idf=True, vect__ngram_range=(1, 2) .........\n"
          ],
          "name": "stdout"
        },
        {
          "output_type": "stream",
          "text": [
            "[Parallel(n_jobs=1)]: Using backend SequentialBackend with 1 concurrent workers.\n",
            "/usr/local/lib/python3.6/dist-packages/sklearn/linear_model/logistic.py:433: FutureWarning: Default solver will be changed to 'lbfgs' in 0.22. Specify a solver to silence this warning.\n",
            "  FutureWarning)\n"
          ],
          "name": "stderr"
        },
        {
          "output_type": "stream",
          "text": [
            "[CV]  clf__C=1, tfidf__use_idf=True, vect__ngram_range=(1, 2), score=0.8686, total=  30.4s\n",
            "[CV] clf__C=1, tfidf__use_idf=True, vect__ngram_range=(1, 2) .........\n"
          ],
          "name": "stdout"
        },
        {
          "output_type": "stream",
          "text": [
            "[Parallel(n_jobs=1)]: Done   1 out of   1 | elapsed:   42.3s remaining:    0.0s\n"
          ],
          "name": "stderr"
        },
        {
          "output_type": "stream",
          "text": [
            "[CV]  clf__C=1, tfidf__use_idf=True, vect__ngram_range=(1, 2), score=0.8634, total=  31.0s\n",
            "[CV] clf__C=1, tfidf__use_idf=True, vect__ngram_range=(1, 2) .........\n"
          ],
          "name": "stdout"
        },
        {
          "output_type": "stream",
          "text": [
            "[Parallel(n_jobs=1)]: Done   2 out of   2 | elapsed:  1.4min remaining:    0.0s\n"
          ],
          "name": "stderr"
        },
        {
          "output_type": "stream",
          "text": [
            "[CV]  clf__C=1, tfidf__use_idf=True, vect__ngram_range=(1, 2), score=0.8634, total=  30.7s\n",
            "[CV] clf__C=1, tfidf__use_idf=True, vect__ngram_range=(1, 2) .........\n"
          ],
          "name": "stdout"
        },
        {
          "output_type": "stream",
          "text": [
            "[Parallel(n_jobs=1)]: Done   3 out of   3 | elapsed:  2.1min remaining:    0.0s\n"
          ],
          "name": "stderr"
        },
        {
          "output_type": "stream",
          "text": [
            "[CV]  clf__C=1, tfidf__use_idf=True, vect__ngram_range=(1, 2), score=0.858, total=  30.8s\n",
            "[CV] clf__C=1, tfidf__use_idf=True, vect__ngram_range=(1, 2) .........\n"
          ],
          "name": "stdout"
        },
        {
          "output_type": "stream",
          "text": [
            "[Parallel(n_jobs=1)]: Done   4 out of   4 | elapsed:  2.9min remaining:    0.0s\n"
          ],
          "name": "stderr"
        },
        {
          "output_type": "stream",
          "text": [
            "[CV]  clf__C=1, tfidf__use_idf=True, vect__ngram_range=(1, 2), score=0.863, total=  30.6s\n",
            "[CV] clf__C=10, tfidf__use_idf=True, vect__ngram_range=(1, 2) ........\n"
          ],
          "name": "stdout"
        },
        {
          "output_type": "stream",
          "text": [
            "[Parallel(n_jobs=1)]: Done   5 out of   5 | elapsed:  3.6min remaining:    0.0s\n"
          ],
          "name": "stderr"
        },
        {
          "output_type": "stream",
          "text": [
            "[CV]  clf__C=10, tfidf__use_idf=True, vect__ngram_range=(1, 2), score=0.8926, total=  32.4s\n",
            "[CV] clf__C=10, tfidf__use_idf=True, vect__ngram_range=(1, 2) ........\n"
          ],
          "name": "stdout"
        },
        {
          "output_type": "stream",
          "text": [
            "[Parallel(n_jobs=1)]: Done   6 out of   6 | elapsed:  4.3min remaining:    0.0s\n"
          ],
          "name": "stderr"
        },
        {
          "output_type": "stream",
          "text": [
            "[CV]  clf__C=10, tfidf__use_idf=True, vect__ngram_range=(1, 2), score=0.8908, total=  33.6s\n",
            "[CV] clf__C=10, tfidf__use_idf=True, vect__ngram_range=(1, 2) ........\n"
          ],
          "name": "stdout"
        },
        {
          "output_type": "stream",
          "text": [
            "[Parallel(n_jobs=1)]: Done   7 out of   7 | elapsed:  5.1min remaining:    0.0s\n"
          ],
          "name": "stderr"
        },
        {
          "output_type": "stream",
          "text": [
            "[CV]  clf__C=10, tfidf__use_idf=True, vect__ngram_range=(1, 2), score=0.8838, total=  33.2s\n",
            "[CV] clf__C=10, tfidf__use_idf=True, vect__ngram_range=(1, 2) ........\n"
          ],
          "name": "stdout"
        },
        {
          "output_type": "stream",
          "text": [
            "[Parallel(n_jobs=1)]: Done   8 out of   8 | elapsed:  5.8min remaining:    0.0s\n"
          ],
          "name": "stderr"
        },
        {
          "output_type": "stream",
          "text": [
            "[CV]  clf__C=10, tfidf__use_idf=True, vect__ngram_range=(1, 2), score=0.8828, total=  32.0s\n",
            "[CV] clf__C=10, tfidf__use_idf=True, vect__ngram_range=(1, 2) ........\n"
          ],
          "name": "stdout"
        },
        {
          "output_type": "stream",
          "text": [
            "[Parallel(n_jobs=1)]: Done   9 out of   9 | elapsed:  6.5min remaining:    0.0s\n"
          ],
          "name": "stderr"
        },
        {
          "output_type": "stream",
          "text": [
            "[CV]  clf__C=10, tfidf__use_idf=True, vect__ngram_range=(1, 2), score=0.8896, total=  32.9s\n",
            "[CV] clf__C=100, tfidf__use_idf=True, vect__ngram_range=(1, 2) .......\n",
            "[CV]  clf__C=100, tfidf__use_idf=True, vect__ngram_range=(1, 2), score=0.8926, total=  29.5s\n",
            "[CV] clf__C=100, tfidf__use_idf=True, vect__ngram_range=(1, 2) .......\n",
            "[CV]  clf__C=100, tfidf__use_idf=True, vect__ngram_range=(1, 2), score=0.887, total=  30.0s\n",
            "[CV] clf__C=100, tfidf__use_idf=True, vect__ngram_range=(1, 2) .......\n",
            "[CV]  clf__C=100, tfidf__use_idf=True, vect__ngram_range=(1, 2), score=0.8786, total=  31.0s\n",
            "[CV] clf__C=100, tfidf__use_idf=True, vect__ngram_range=(1, 2) .......\n",
            "[CV]  clf__C=100, tfidf__use_idf=True, vect__ngram_range=(1, 2), score=0.8816, total=  30.5s\n",
            "[CV] clf__C=100, tfidf__use_idf=True, vect__ngram_range=(1, 2) .......\n",
            "[CV]  clf__C=100, tfidf__use_idf=True, vect__ngram_range=(1, 2), score=0.8864, total=  31.3s\n"
          ],
          "name": "stdout"
        },
        {
          "output_type": "stream",
          "text": [
            "[Parallel(n_jobs=1)]: Done  15 out of  15 | elapsed: 10.9min finished\n"
          ],
          "name": "stderr"
        },
        {
          "output_type": "stream",
          "text": [
            "Model with rank: 1\n",
            "Mean validation score: 0.888 (std: 0.004)\n",
            "Parameters: {'clf__C': 10, 'tfidf__use_idf': True, 'vect__ngram_range': (1, 2)}\n",
            "\n",
            "Model with rank: 2\n",
            "Mean validation score: 0.885 (std: 0.005)\n",
            "Parameters: {'clf__C': 100, 'tfidf__use_idf': True, 'vect__ngram_range': (1, 2)}\n",
            "\n",
            "Model with rank: 3\n",
            "Mean validation score: 0.863 (std: 0.003)\n",
            "Parameters: {'clf__C': 1, 'tfidf__use_idf': True, 'vect__ngram_range': (1, 2)}\n",
            "\n"
          ],
          "name": "stdout"
        }
      ]
    },
    {
      "metadata": {
        "id": "USktZkBRN2lU",
        "colab_type": "text"
      },
      "cell_type": "markdown",
      "source": [
        "**Report:**  \n",
        "Model with rank: 1  \n",
        "Mean validation score: 0.888 (std: 0.004)  \n",
        "Parameters: {'clf__C': 10, 'tfidf__use_idf': True, 'vect__ngram_range': (1, 2)}\n",
        "\n",
        "Model with rank: 2  \n",
        "Mean validation score: 0.885 (std: 0.005)  \n",
        "Parameters: {'clf__C': 100, 'tfidf__use_idf': True, 'vect__ngram_range': (1, 2)}\n",
        "\n",
        "Model with rank: 3  \n",
        "Mean validation score: 0.863 (std: 0.003)  \n",
        "Parameters: {'clf__C': 1, 'tfidf__use_idf': True, 'vect__ngram_range': (1, 2)}"
      ]
    },
    {
      "metadata": {
        "id": "Zu-zCFmKQ-m0",
        "colab_type": "text"
      },
      "cell_type": "markdown",
      "source": [
        "#### TF\\*IDF, Bigrams, L1 + L2 Regularization"
      ]
    },
    {
      "metadata": {
        "id": "wI_26Sq-OW--",
        "colab_type": "code",
        "outputId": "1049eab7-390a-4a2b-cf3d-922ac232d29e",
        "colab": {
          "base_uri": "https://localhost:8080/",
          "height": 989
        }
      },
      "cell_type": "code",
      "source": [
        "# Bigrams, TF*IDF and L1 + L2 regularization\n",
        "\n",
        "from sklearn.preprocessing import Normalizer\n",
        "\n",
        "pclf = Pipeline([\n",
        "    ('vect', CountVectorizer()),\n",
        "    ('tfidf', TfidfTransformer()),\n",
        "    ('norm', Normalizer(norm='l1')), # L1 regularization\n",
        "    ('clf', LR(penalty='l2')), # L2 regularization\n",
        "])\n",
        "\n",
        "params = {\n",
        "    \"vect__ngram_range\": [(1,2)], # bigrams\n",
        "    \"tfidf__use_idf\": [True],\n",
        "    \"clf__C\": [1,10,100]\n",
        "}\n",
        "\n",
        "grid_search = GridSearchCV(\n",
        "    pclf,\n",
        "    param_grid=params,\n",
        "    cv=5, # 5-fold cross validation\n",
        "    verbose = 10,\n",
        "    return_train_score=True,\n",
        ")\n",
        "\n",
        "grid_search.fit(X_train, y_train)\n",
        "\n",
        "report(grid_search.cv_results_)"
      ],
      "execution_count": 0,
      "outputs": [
        {
          "output_type": "stream",
          "text": [
            "Fitting 5 folds for each of 3 candidates, totalling 15 fits\n",
            "[CV] clf__C=1, tfidf__use_idf=True, vect__ngram_range=(1, 2) .........\n"
          ],
          "name": "stdout"
        },
        {
          "output_type": "stream",
          "text": [
            "[Parallel(n_jobs=1)]: Using backend SequentialBackend with 1 concurrent workers.\n",
            "/usr/local/lib/python3.6/dist-packages/sklearn/linear_model/logistic.py:433: FutureWarning: Default solver will be changed to 'lbfgs' in 0.22. Specify a solver to silence this warning.\n",
            "  FutureWarning)\n"
          ],
          "name": "stderr"
        },
        {
          "output_type": "stream",
          "text": [
            "[CV]  clf__C=1, tfidf__use_idf=True, vect__ngram_range=(1, 2), score=0.8116, total=  25.3s\n",
            "[CV] clf__C=1, tfidf__use_idf=True, vect__ngram_range=(1, 2) .........\n"
          ],
          "name": "stdout"
        },
        {
          "output_type": "stream",
          "text": [
            "[Parallel(n_jobs=1)]: Done   1 out of   1 | elapsed:   37.5s remaining:    0.0s\n"
          ],
          "name": "stderr"
        },
        {
          "output_type": "stream",
          "text": [
            "[CV]  clf__C=1, tfidf__use_idf=True, vect__ngram_range=(1, 2), score=0.8048, total=  25.9s\n",
            "[CV] clf__C=1, tfidf__use_idf=True, vect__ngram_range=(1, 2) .........\n"
          ],
          "name": "stdout"
        },
        {
          "output_type": "stream",
          "text": [
            "[Parallel(n_jobs=1)]: Done   2 out of   2 | elapsed:  1.2min remaining:    0.0s\n"
          ],
          "name": "stderr"
        },
        {
          "output_type": "stream",
          "text": [
            "[CV]  clf__C=1, tfidf__use_idf=True, vect__ngram_range=(1, 2), score=0.8, total=  24.7s\n",
            "[CV] clf__C=1, tfidf__use_idf=True, vect__ngram_range=(1, 2) .........\n"
          ],
          "name": "stdout"
        },
        {
          "output_type": "stream",
          "text": [
            "[Parallel(n_jobs=1)]: Done   3 out of   3 | elapsed:  1.9min remaining:    0.0s\n"
          ],
          "name": "stderr"
        },
        {
          "output_type": "stream",
          "text": [
            "[CV]  clf__C=1, tfidf__use_idf=True, vect__ngram_range=(1, 2), score=0.7984, total=  24.9s\n",
            "[CV] clf__C=1, tfidf__use_idf=True, vect__ngram_range=(1, 2) .........\n"
          ],
          "name": "stdout"
        },
        {
          "output_type": "stream",
          "text": [
            "[Parallel(n_jobs=1)]: Done   4 out of   4 | elapsed:  2.5min remaining:    0.0s\n"
          ],
          "name": "stderr"
        },
        {
          "output_type": "stream",
          "text": [
            "[CV]  clf__C=1, tfidf__use_idf=True, vect__ngram_range=(1, 2), score=0.8008, total=  24.4s\n",
            "[CV] clf__C=10, tfidf__use_idf=True, vect__ngram_range=(1, 2) ........\n"
          ],
          "name": "stdout"
        },
        {
          "output_type": "stream",
          "text": [
            "[Parallel(n_jobs=1)]: Done   5 out of   5 | elapsed:  3.1min remaining:    0.0s\n"
          ],
          "name": "stderr"
        },
        {
          "output_type": "stream",
          "text": [
            "[CV]  clf__C=10, tfidf__use_idf=True, vect__ngram_range=(1, 2), score=0.8384, total=  25.2s\n",
            "[CV] clf__C=10, tfidf__use_idf=True, vect__ngram_range=(1, 2) ........\n"
          ],
          "name": "stdout"
        },
        {
          "output_type": "stream",
          "text": [
            "[Parallel(n_jobs=1)]: Done   6 out of   6 | elapsed:  3.7min remaining:    0.0s\n"
          ],
          "name": "stderr"
        },
        {
          "output_type": "stream",
          "text": [
            "[CV]  clf__C=10, tfidf__use_idf=True, vect__ngram_range=(1, 2), score=0.8282, total=  27.1s\n",
            "[CV] clf__C=10, tfidf__use_idf=True, vect__ngram_range=(1, 2) ........\n"
          ],
          "name": "stdout"
        },
        {
          "output_type": "stream",
          "text": [
            "[Parallel(n_jobs=1)]: Done   7 out of   7 | elapsed:  4.3min remaining:    0.0s\n"
          ],
          "name": "stderr"
        },
        {
          "output_type": "stream",
          "text": [
            "[CV]  clf__C=10, tfidf__use_idf=True, vect__ngram_range=(1, 2), score=0.8232, total=  26.5s\n",
            "[CV] clf__C=10, tfidf__use_idf=True, vect__ngram_range=(1, 2) ........\n"
          ],
          "name": "stdout"
        },
        {
          "output_type": "stream",
          "text": [
            "[Parallel(n_jobs=1)]: Done   8 out of   8 | elapsed:  5.0min remaining:    0.0s\n"
          ],
          "name": "stderr"
        },
        {
          "output_type": "stream",
          "text": [
            "[CV]  clf__C=10, tfidf__use_idf=True, vect__ngram_range=(1, 2), score=0.8262, total=  26.5s\n",
            "[CV] clf__C=10, tfidf__use_idf=True, vect__ngram_range=(1, 2) ........\n"
          ],
          "name": "stdout"
        },
        {
          "output_type": "stream",
          "text": [
            "[Parallel(n_jobs=1)]: Done   9 out of   9 | elapsed:  5.6min remaining:    0.0s\n"
          ],
          "name": "stderr"
        },
        {
          "output_type": "stream",
          "text": [
            "[CV]  clf__C=10, tfidf__use_idf=True, vect__ngram_range=(1, 2), score=0.8268, total=  26.9s\n",
            "[CV] clf__C=100, tfidf__use_idf=True, vect__ngram_range=(1, 2) .......\n",
            "[CV]  clf__C=100, tfidf__use_idf=True, vect__ngram_range=(1, 2), score=0.8812, total=  30.2s\n",
            "[CV] clf__C=100, tfidf__use_idf=True, vect__ngram_range=(1, 2) .......\n",
            "[CV]  clf__C=100, tfidf__use_idf=True, vect__ngram_range=(1, 2), score=0.8694, total=  29.8s\n",
            "[CV] clf__C=100, tfidf__use_idf=True, vect__ngram_range=(1, 2) .......\n",
            "[CV]  clf__C=100, tfidf__use_idf=True, vect__ngram_range=(1, 2), score=0.87, total=  30.4s\n",
            "[CV] clf__C=100, tfidf__use_idf=True, vect__ngram_range=(1, 2) .......\n",
            "[CV]  clf__C=100, tfidf__use_idf=True, vect__ngram_range=(1, 2), score=0.864, total=  30.1s\n",
            "[CV] clf__C=100, tfidf__use_idf=True, vect__ngram_range=(1, 2) .......\n",
            "[CV]  clf__C=100, tfidf__use_idf=True, vect__ngram_range=(1, 2), score=0.8686, total=  29.7s\n"
          ],
          "name": "stdout"
        },
        {
          "output_type": "stream",
          "text": [
            "[Parallel(n_jobs=1)]: Done  15 out of  15 | elapsed:  9.8min finished\n"
          ],
          "name": "stderr"
        },
        {
          "output_type": "stream",
          "text": [
            "Model with rank: 1\n",
            "Mean validation score: 0.871 (std: 0.006)\n",
            "Parameters: {'clf__C': 100, 'tfidf__use_idf': True, 'vect__ngram_range': (1, 2)}\n",
            "\n",
            "Model with rank: 2\n",
            "Mean validation score: 0.829 (std: 0.005)\n",
            "Parameters: {'clf__C': 10, 'tfidf__use_idf': True, 'vect__ngram_range': (1, 2)}\n",
            "\n",
            "Model with rank: 3\n",
            "Mean validation score: 0.803 (std: 0.005)\n",
            "Parameters: {'clf__C': 1, 'tfidf__use_idf': True, 'vect__ngram_range': (1, 2)}\n",
            "\n"
          ],
          "name": "stdout"
        }
      ]
    },
    {
      "metadata": {
        "id": "yGndYCEAQTx_",
        "colab_type": "text"
      },
      "cell_type": "markdown",
      "source": [
        "**Report:**  \n",
        "Model with rank: 1  \n",
        "Mean validation score: 0.871 (std: 0.006)  \n",
        "Parameters: {'clf__C': 100, 'tfidf__use_idf': True, 'vect__ngram_range': (1, 2)}  \n",
        "\n",
        "Model with rank: 2  \n",
        "Mean validation score: 0.829 (std: 0.005)  \n",
        "Parameters: {'clf__C': 10, 'tfidf__use_idf': True, 'vect__ngram_range': (1, 2)}  \n",
        "\n",
        "Model with rank: 3  \n",
        "Mean validation score: 0.803 (std: 0.005)  \n",
        "Parameters: {'clf__C': 1, 'tfidf__use_idf': True, 'vect__ngram_range': (1, 2)}  \n"
      ]
    },
    {
      "metadata": {
        "id": "duvaAEjvRGuc",
        "colab_type": "text"
      },
      "cell_type": "markdown",
      "source": [
        "#### Observations"
      ]
    },
    {
      "metadata": {
        "id": "dNkN8AELRKTq",
        "colab_type": "text"
      },
      "cell_type": "markdown",
      "source": [
        "Logistic regression's performance increased in the following order of features:\n",
        "1. Bag of words: 0.867\n",
        "2. TF\\*IDF + bigrams + L1 + L2 regularization: 0.871\n",
        "3. TF\\*IDF alone: 0.871\n",
        "4. TF\\*IDF + bigrams + L1 regularization: 0.888\n",
        "6. TF\\*IDF + bigrams + L2 regularization: 0.906\n",
        "6. TF\\*IDF + bigrams without regularization: 0.909"
      ]
    },
    {
      "metadata": {
        "id": "UyX6P7wdLnaU",
        "colab_type": "text"
      },
      "cell_type": "markdown",
      "source": [
        "## Final cross validation grid search"
      ]
    },
    {
      "metadata": {
        "id": "9tsZb0p9Li-Y",
        "colab_type": "code",
        "outputId": "1ee9bf6f-e347-407b-9fea-9e7297a59650",
        "colab": {
          "base_uri": "https://localhost:8080/",
          "height": 683
        }
      },
      "cell_type": "code",
      "source": [
        "from sklearn.pipeline import Pipeline\n",
        "from sklearn.feature_extraction.text import CountVectorizer, TfidfTransformer\n",
        "\n",
        "# Bigrams with TF*IDF\n",
        "\n",
        "pclf = Pipeline([\n",
        "    ('vect', CountVectorizer(ngram_range=(1,2))),\n",
        "    ('tfidf', TfidfTransformer()),\n",
        "    ('clf', LR(C=1e42)),\n",
        "])\n",
        "\n",
        "grid_search = GridSearchCV(\n",
        "    pclf,\n",
        "    param_grid={},\n",
        "    cv=10, # 10-fold cross validation\n",
        "    verbose = 10,\n",
        "    return_train_score=True,\n",
        ")\n",
        "\n",
        "grid_search.fit(X_train, y_train)\n",
        "\n",
        "report(grid_search.cv_results_)"
      ],
      "execution_count": 0,
      "outputs": [
        {
          "output_type": "stream",
          "text": [
            "Fitting 10 folds for each of 1 candidates, totalling 10 fits\n",
            "[CV]  ................................................................\n"
          ],
          "name": "stdout"
        },
        {
          "output_type": "stream",
          "text": [
            "[Parallel(n_jobs=1)]: Using backend SequentialBackend with 1 concurrent workers.\n",
            "/usr/local/lib/python3.6/dist-packages/sklearn/linear_model/logistic.py:433: FutureWarning: Default solver will be changed to 'lbfgs' in 0.22. Specify a solver to silence this warning.\n",
            "  FutureWarning)\n"
          ],
          "name": "stderr"
        },
        {
          "output_type": "stream",
          "text": [
            "[CV] .................................... , score=0.914, total=  47.2s\n",
            "[CV]  ................................................................\n"
          ],
          "name": "stdout"
        },
        {
          "output_type": "stream",
          "text": [
            "[Parallel(n_jobs=1)]: Done   1 out of   1 | elapsed:  1.0min remaining:    0.0s\n"
          ],
          "name": "stderr"
        },
        {
          "output_type": "stream",
          "text": [
            "[CV] ................................... , score=0.9176, total=  46.1s\n",
            "[CV]  ................................................................\n"
          ],
          "name": "stdout"
        },
        {
          "output_type": "stream",
          "text": [
            "[Parallel(n_jobs=1)]: Done   2 out of   2 | elapsed:  2.0min remaining:    0.0s\n"
          ],
          "name": "stderr"
        },
        {
          "output_type": "stream",
          "text": [
            "[CV] ................................... , score=0.9096, total=  48.6s\n",
            "[CV]  ................................................................\n"
          ],
          "name": "stdout"
        },
        {
          "output_type": "stream",
          "text": [
            "[Parallel(n_jobs=1)]: Done   3 out of   3 | elapsed:  3.0min remaining:    0.0s\n"
          ],
          "name": "stderr"
        },
        {
          "output_type": "stream",
          "text": [
            "[CV] ................................... , score=0.9108, total=  47.5s\n",
            "[CV]  ................................................................\n"
          ],
          "name": "stdout"
        },
        {
          "output_type": "stream",
          "text": [
            "[Parallel(n_jobs=1)]: Done   4 out of   4 | elapsed:  4.0min remaining:    0.0s\n"
          ],
          "name": "stderr"
        },
        {
          "output_type": "stream",
          "text": [
            "[CV] ................................... , score=0.9104, total=  51.6s\n",
            "[CV]  ................................................................\n"
          ],
          "name": "stdout"
        },
        {
          "output_type": "stream",
          "text": [
            "[Parallel(n_jobs=1)]: Done   5 out of   5 | elapsed:  5.2min remaining:    0.0s\n"
          ],
          "name": "stderr"
        },
        {
          "output_type": "stream",
          "text": [
            "[CV] ................................... , score=0.9056, total=  52.0s\n",
            "[CV]  ................................................................\n"
          ],
          "name": "stdout"
        },
        {
          "output_type": "stream",
          "text": [
            "[Parallel(n_jobs=1)]: Done   6 out of   6 | elapsed:  6.3min remaining:    0.0s\n"
          ],
          "name": "stderr"
        },
        {
          "output_type": "stream",
          "text": [
            "[CV] .................................... , score=0.898, total=  47.8s\n",
            "[CV]  ................................................................\n"
          ],
          "name": "stdout"
        },
        {
          "output_type": "stream",
          "text": [
            "[Parallel(n_jobs=1)]: Done   7 out of   7 | elapsed:  7.3min remaining:    0.0s\n"
          ],
          "name": "stderr"
        },
        {
          "output_type": "stream",
          "text": [
            "[CV] .................................... , score=0.912, total=  48.7s\n",
            "[CV]  ................................................................\n"
          ],
          "name": "stdout"
        },
        {
          "output_type": "stream",
          "text": [
            "[Parallel(n_jobs=1)]: Done   8 out of   8 | elapsed:  8.4min remaining:    0.0s\n"
          ],
          "name": "stderr"
        },
        {
          "output_type": "stream",
          "text": [
            "[CV] .................................... , score=0.912, total=  55.9s\n",
            "[CV]  ................................................................\n"
          ],
          "name": "stdout"
        },
        {
          "output_type": "stream",
          "text": [
            "[Parallel(n_jobs=1)]: Done   9 out of   9 | elapsed:  9.6min remaining:    0.0s\n"
          ],
          "name": "stderr"
        },
        {
          "output_type": "stream",
          "text": [
            "[CV] ................................... , score=0.9148, total=  55.7s\n"
          ],
          "name": "stdout"
        },
        {
          "output_type": "stream",
          "text": [
            "[Parallel(n_jobs=1)]: Done  10 out of  10 | elapsed: 10.7min finished\n"
          ],
          "name": "stderr"
        },
        {
          "output_type": "stream",
          "text": [
            "Model with rank: 1\n",
            "Mean validation score: 0.910 (std: 0.005)\n",
            "Parameters: {}\n",
            "\n"
          ],
          "name": "stdout"
        }
      ]
    },
    {
      "metadata": {
        "id": "xIlrM7-uihhZ",
        "colab_type": "code",
        "colab": {}
      },
      "cell_type": "code",
      "source": [
        "# Output\n",
        "\n",
        "\"\"\"\n",
        "Fitting 10 folds for each of 1 candidates, totalling 10 fits\n",
        "[CV]  ................................................................\n",
        "[Parallel(n_jobs=1)]: Using backend SequentialBackend with 1 concurrent workers.\n",
        "/usr/local/lib/python3.6/dist-packages/sklearn/linear_model/logistic.py:433: FutureWarning: Default solver will be changed to 'lbfgs' in 0.22. Specify a solver to silence this warning.\n",
        "  FutureWarning)\n",
        "[CV] .................................... , score=0.914, total=  47.2s\n",
        "[CV]  ................................................................\n",
        "[Parallel(n_jobs=1)]: Done   1 out of   1 | elapsed:  1.0min remaining:    0.0s\n",
        "[CV] ................................... , score=0.9176, total=  46.1s\n",
        "[CV]  ................................................................\n",
        "[Parallel(n_jobs=1)]: Done   2 out of   2 | elapsed:  2.0min remaining:    0.0s\n",
        "[CV] ................................... , score=0.9096, total=  48.6s\n",
        "[CV]  ................................................................\n",
        "[Parallel(n_jobs=1)]: Done   3 out of   3 | elapsed:  3.0min remaining:    0.0s\n",
        "[CV] ................................... , score=0.9108, total=  47.5s\n",
        "[CV]  ................................................................\n",
        "[Parallel(n_jobs=1)]: Done   4 out of   4 | elapsed:  4.0min remaining:    0.0s\n",
        "[CV] ................................... , score=0.9104, total=  51.6s\n",
        "[CV]  ................................................................\n",
        "[Parallel(n_jobs=1)]: Done   5 out of   5 | elapsed:  5.2min remaining:    0.0s\n",
        "[CV] ................................... , score=0.9056, total=  52.0s\n",
        "[CV]  ................................................................\n",
        "[Parallel(n_jobs=1)]: Done   6 out of   6 | elapsed:  6.3min remaining:    0.0s\n",
        "[CV] .................................... , score=0.898, total=  47.8s\n",
        "[CV]  ................................................................\n",
        "[Parallel(n_jobs=1)]: Done   7 out of   7 | elapsed:  7.3min remaining:    0.0s\n",
        "[CV] .................................... , score=0.912, total=  48.7s\n",
        "[CV]  ................................................................\n",
        "[Parallel(n_jobs=1)]: Done   8 out of   8 | elapsed:  8.4min remaining:    0.0s\n",
        "[CV] .................................... , score=0.912, total=  55.9s\n",
        "[CV]  ................................................................\n",
        "[Parallel(n_jobs=1)]: Done   9 out of   9 | elapsed:  9.6min remaining:    0.0s\n",
        "[CV] ................................... , score=0.9148, total=  55.7s\n",
        "[Parallel(n_jobs=1)]: Done  10 out of  10 | elapsed: 10.7min finished\n",
        "Model with rank: 1\n",
        "Mean validation score: 0.910 (std: 0.005)\n",
        "Parameters: {}\n",
        "\"\"\""
      ],
      "execution_count": 0,
      "outputs": []
    },
    {
      "metadata": {
        "id": "CzqGhSdiiWsN",
        "colab_type": "text"
      },
      "cell_type": "markdown",
      "source": [
        "**Report:**  \n",
        "Model with rank: 1  \n",
        "Mean validation score: 0.910 (std: 0.005)  \n",
        "Parameters: TF\\*IDF, bigrams, no regularization"
      ]
    },
    {
      "metadata": {
        "id": "taEKMAm1iCsZ",
        "colab_type": "text"
      },
      "cell_type": "markdown",
      "source": [
        ""
      ]
    },
    {
      "metadata": {
        "id": "khydCMrFCWXb",
        "colab_type": "code",
        "colab": {}
      },
      "cell_type": "code",
      "source": [
        "from sklearn.model_selection import GridSearchCV\n",
        "\n",
        "params = {\n",
        "    \"vect__ngram_range\": [(1,1),(1,2),(2,2),(1,3),(1,4)],\n",
        "    \"tfidf__use_idf\": [True, False],\n",
        "    \"clf__C\": [0.001, 0.01, 0.1, 1, 10, 100],\n",
        "}\n",
        "\n",
        "grid_search = GridSearchCV(\n",
        "    pclf,\n",
        "    param_grid=params,\n",
        "    cv=5, # 5-fold cross validation\n",
        "    verbose = 10,\n",
        "    return_train_score=True,\n",
        ")\n",
        "\n",
        "grid_search.fit(X_train, y_train)"
      ],
      "execution_count": 0,
      "outputs": []
    },
    {
      "metadata": {
        "id": "6iL_Iv13JcaT",
        "colab_type": "code",
        "outputId": "2d804bdf-d322-495e-db4f-58bd1da2e065",
        "colab": {
          "base_uri": "https://localhost:8080/",
          "height": 198
        }
      },
      "cell_type": "code",
      "source": [
        "from pandas import DataFrame\n",
        "df = DataFrame(grid_search.cv_results_).sort_values(by=['rank_test_score'])\n",
        "print (df.to_latex())"
      ],
      "execution_count": 0,
      "outputs": [
        {
          "output_type": "error",
          "ename": "NameError",
          "evalue": "ignored",
          "traceback": [
            "\u001b[0;31m---------------------------------------------------------------------------\u001b[0m",
            "\u001b[0;31mNameError\u001b[0m                                 Traceback (most recent call last)",
            "\u001b[0;32m<ipython-input-3-56a9965befeb>\u001b[0m in \u001b[0;36m<module>\u001b[0;34m()\u001b[0m\n\u001b[1;32m      1\u001b[0m \u001b[0;32mfrom\u001b[0m \u001b[0mpandas\u001b[0m \u001b[0;32mimport\u001b[0m \u001b[0mDataFrame\u001b[0m\u001b[0;34m\u001b[0m\u001b[0;34m\u001b[0m\u001b[0m\n\u001b[0;32m----> 2\u001b[0;31m \u001b[0mdf\u001b[0m \u001b[0;34m=\u001b[0m \u001b[0mDataFrame\u001b[0m\u001b[0;34m(\u001b[0m\u001b[0mgrid_search\u001b[0m\u001b[0;34m.\u001b[0m\u001b[0mcv_results_\u001b[0m\u001b[0;34m)\u001b[0m\u001b[0;34m.\u001b[0m\u001b[0msort_values\u001b[0m\u001b[0;34m(\u001b[0m\u001b[0mby\u001b[0m\u001b[0;34m=\u001b[0m\u001b[0;34m[\u001b[0m\u001b[0;34m'rank_test_score'\u001b[0m\u001b[0;34m]\u001b[0m\u001b[0;34m)\u001b[0m\u001b[0;34m\u001b[0m\u001b[0;34m\u001b[0m\u001b[0m\n\u001b[0m\u001b[1;32m      3\u001b[0m \u001b[0mprint\u001b[0m \u001b[0;34m(\u001b[0m\u001b[0mdf\u001b[0m\u001b[0;34m.\u001b[0m\u001b[0mto_latex\u001b[0m\u001b[0;34m(\u001b[0m\u001b[0;34m)\u001b[0m\u001b[0;34m)\u001b[0m\u001b[0;34m\u001b[0m\u001b[0;34m\u001b[0m\u001b[0m\n",
            "\u001b[0;31mNameError\u001b[0m: name 'grid_search' is not defined"
          ]
        }
      ]
    },
    {
      "metadata": {
        "id": "obZM-TfxpbHU",
        "colab_type": "code",
        "colab": {}
      },
      "cell_type": "code",
      "source": [
        "# Top three models from randomized search and 5-fold cross validation\n",
        "\n",
        "report(grid_search.cv_results_)"
      ],
      "execution_count": 0,
      "outputs": []
    },
    {
      "metadata": {
        "id": "vqg0afeKJq88",
        "colab_type": "text"
      },
      "cell_type": "markdown",
      "source": [
        "Report:  \n",
        "Model with rank: 1  \n",
        "Mean validation score: 0.906 (std: 0.003)  \n",
        "Parameters: {'clf__C': 100, 'tfidf__use_idf': True, 'vect__ngram_range': (1, 2)}  \n",
        "\n",
        "Model with rank: 2  \n",
        "Mean validation score: 0.903 (std: 0.004)  \n",
        "Parameters: {'clf__C': 10, 'tfidf__use_idf': True, 'vect__ngram_range': (1, 2)}  \n",
        "\n",
        "Model with rank: 3  \n",
        "Mean validation score: 0.902 (std: 0.004)  \n",
        "Parameters: {'clf__C': 100, 'tfidf__use_idf': True, 'vect__ngram_range': (1, 3)}  \n",
        "\n",
        "Kaggle score (model rank 1): 0.90413"
      ]
    },
    {
      "metadata": {
        "id": "yxeqVhakJG1G",
        "colab_type": "code",
        "colab": {}
      },
      "cell_type": "code",
      "source": [
        "reports_path = project_dir / 'reports'\n",
        "\n",
        "# Predict from test data\n",
        "y_test_pred = grid_search.predict(X_test)\n",
        "\n",
        "# Export to CSV file\n",
        "pd.DataFrame(y_test_pred, columns=['Category']).to_csv(reports_path / 'prediction_4.csv')"
      ],
      "execution_count": 0,
      "outputs": []
    },
    {
      "metadata": {
        "id": "Es_wau3dJ7zF",
        "colab_type": "code",
        "colab": {}
      },
      "cell_type": "code",
      "source": [
        "from sklearn.svm import SVC\n",
        "\n",
        "pclf = Pipeline([\n",
        "    ('vect', CountVectorizer()),\n",
        "    ('tfidf', TfidfTransformer()),\n",
        "    ('norm', Normalizer()),\n",
        "    ('clf', SVC(cache_size=7000)),\n",
        "])\n",
        "\n",
        "pclf.fit(X_train, y_train)"
      ],
      "execution_count": 0,
      "outputs": []
    },
    {
      "metadata": {
        "id": "nBjzX3h0PUDH",
        "colab_type": "code",
        "colab": {}
      },
      "cell_type": "code",
      "source": [
        "from sklearn.model_selection import GridSearchCV\n",
        "\n",
        "params = {\n",
        "    \"vect__ngram_range\": [(1,1),(1,2),(1,3),(1,4)],\n",
        "    \"clf__kernel\": [\n",
        "        'linear',\n",
        "        #'sigmoid',\n",
        "    ],\n",
        "    \"clf__gamma\": [\n",
        "        #'auto',\n",
        "        'scale',\n",
        "    ]\n",
        "}\n",
        "\n",
        "grid_search = GridSearchCV(\n",
        "    pclf,\n",
        "    param_grid=params, # For grid search\n",
        "    cv=2, # 2-fold cross validation\n",
        "    verbose = 10,\n",
        "    return_train_score=True,\n",
        ")\n",
        "\n",
        "grid_search.fit(X_train, y_train)"
      ],
      "execution_count": 0,
      "outputs": []
    },
    {
      "metadata": {
        "id": "ARjYsmb0qv9B",
        "colab_type": "code",
        "colab": {}
      },
      "cell_type": "code",
      "source": [
        "\"\"\"\n",
        "Fitting 2 folds for each of 16 candidates, totalling 32 fits\n",
        "[CV] clf__gamma=auto, clf__kernel=linear, vect__ngram_range=(1, 1) ...\n",
        "[Parallel(n_jobs=1)]: Using backend SequentialBackend with 1 concurrent workers.\n",
        "[CV]  clf__gamma=auto, clf__kernel=linear, vect__ngram_range=(1, 1), score=0.8852, total= 3.5min\n",
        "[CV] clf__gamma=auto, clf__kernel=linear, vect__ngram_range=(1, 1) ...\n",
        "[Parallel(n_jobs=1)]: Done   1 out of   1 | elapsed:  5.4min remaining:    0.0s\n",
        "[CV]  clf__gamma=auto, clf__kernel=linear, vect__ngram_range=(1, 1), score=0.88056, total= 3.5min\n",
        "[CV] clf__gamma=auto, clf__kernel=linear, vect__ngram_range=(1, 2) ...\n",
        "[Parallel(n_jobs=1)]: Done   2 out of   2 | elapsed: 10.6min remaining:    0.0s\n",
        "[CV]  clf__gamma=auto, clf__kernel=linear, vect__ngram_range=(1, 2), score=0.8988, total= 9.8min\n",
        "[CV] clf__gamma=auto, clf__kernel=linear, vect__ngram_range=(1, 2) ...\n",
        "[Parallel(n_jobs=1)]: Done   3 out of   3 | elapsed: 25.0min remaining:    0.0s\n",
        "[CV]  clf__gamma=auto, clf__kernel=linear, vect__ngram_range=(1, 2), score=0.89264, total= 9.5min\n",
        "[CV] clf__gamma=auto, clf__kernel=linear, vect__ngram_range=(1, 3) ...\n",
        "[Parallel(n_jobs=1)]: Done   4 out of   4 | elapsed: 38.8min remaining:    0.0s\n",
        "[CV]  clf__gamma=auto, clf__kernel=linear, vect__ngram_range=(1, 3), score=0.89536, total=13.2min\n",
        "[CV] clf__gamma=auto, clf__kernel=linear, vect__ngram_range=(1, 3) ...\n",
        "[Parallel(n_jobs=1)]: Done   5 out of   5 | elapsed: 58.2min remaining:    0.0s\n",
        "[CV]  clf__gamma=auto, clf__kernel=linear, vect__ngram_range=(1, 3), score=0.89048, total=13.0min\n",
        "[Parallel(n_jobs=1)]: Done   6 out of   6 | elapsed: 77.5min remaining:    0.0s\n",
        "[CV] clf__gamma=auto, clf__kernel=linear, vect__ngram_range=(1, 4) ...\n",
        "[CV]  clf__gamma=auto, clf__kernel=linear, vect__ngram_range=(1, 4), score=0.89264, total=16.7min\n",
        "[CV] clf__gamma=auto, clf__kernel=linear, vect__ngram_range=(1, 4) ...\n",
        "[Parallel(n_jobs=1)]: Done   7 out of   7 | elapsed: 102.7min remaining:    0.0s\n",
        "[CV]  clf__gamma=auto, clf__kernel=linear, vect__ngram_range=(1, 4), score=0.88648, total=16.5min\n",
        "[CV] clf__gamma=auto, clf__kernel=sigmoid, vect__ngram_range=(1, 1) ..\n",
        "[Parallel(n_jobs=1)]: Done   8 out of   8 | elapsed: 127.6min remaining:    0.0s\n",
        "[CV]  clf__gamma=auto, clf__kernel=sigmoid, vect__ngram_range=(1, 1), score=0.64816, total= 6.8min\n",
        "[CV] clf__gamma=auto, clf__kernel=sigmoid, vect__ngram_range=(1, 1) ..\n",
        "[Parallel(n_jobs=1)]: Done   9 out of   9 | elapsed: 137.7min remaining:    0.0s\n",
        "\"\"\""
      ],
      "execution_count": 0,
      "outputs": []
    },
    {
      "metadata": {
        "id": "pV192m4aP4RL",
        "colab_type": "text"
      },
      "cell_type": "markdown",
      "source": [
        "**Observations:**  \n",
        "The score dropped drastically when testing with a sigmoid kernel. Will now only be testing with linear kernel."
      ]
    },
    {
      "metadata": {
        "id": "hvCzgUbNUf3i",
        "colab_type": "code",
        "colab": {}
      },
      "cell_type": "code",
      "source": [
        "report(grid_search.cv_results_)"
      ],
      "execution_count": 0,
      "outputs": []
    },
    {
      "metadata": {
        "id": "Ib8eBq2VyFFL",
        "colab_type": "code",
        "colab": {}
      },
      "cell_type": "code",
      "source": [
        ""
      ],
      "execution_count": 0,
      "outputs": []
    }
  ]
}